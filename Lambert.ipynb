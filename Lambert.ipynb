{
 "cells": [
  {
   "cell_type": "markdown",
   "metadata": {},
   "source": [
    "# Python Implementation of online TSL learning algorithm as presented in [Lambert (2021)](https://proceedings.mlr.press/v153/lambert21a/lambert21a.pdf)"
   ]
  },
  {
   "cell_type": "markdown",
   "metadata": {},
   "source": [
    "### imports and definitions"
   ]
  },
  {
   "cell_type": "code",
   "execution_count": 1,
   "metadata": {},
   "outputs": [],
   "source": [
    "from itertools import combinations, product\n",
    "from tqdm import tqdm"
   ]
  },
  {
   "cell_type": "markdown",
   "metadata": {},
   "source": [
    "### Helper Methods"
   ]
  },
  {
   "cell_type": "code",
   "execution_count": 2,
   "metadata": {},
   "outputs": [],
   "source": [
    "def nsorted(collection, key = lambda x:x): \n",
    "\t'''\n",
    "\tThis method implements numerical sorting, rather than default lexicographical sorting of sorted()\n",
    "\t'''\n",
    "\tif collection.__class__ == dict:\n",
    "\t\treturn {key:collection[key] for key in nsorted(collection.keys())}\n",
    "\treturn sorted(collection, key = lambda element : (len(key(element)), key(element)))"
   ]
  },
  {
   "cell_type": "code",
   "execution_count": 3,
   "metadata": {},
   "outputs": [],
   "source": [
    "class Set:\n",
    "\t'''\n",
    "\tThis is just a wrapper class around python's set class, which allows Sets to be placed in other Sets\n",
    "\t'''\n",
    "\tdef __init__(self, _set = {}):\n",
    "\t\tself._set = set(_set)\n",
    "\t\tself._rehash()\n",
    "\n",
    "\tdef _rehash(self):\n",
    "\t\tself._hash = tuple(nsorted(self._set)).__hash__()\n",
    "\tdef __hash__(self):\n",
    "\t\tif self._hash is None:\n",
    "\t\t\tself._rehash()\n",
    "\t\treturn self._hash\n",
    "\n",
    "\tdef __eq__(self, other):\n",
    "\t\treturn self.__class__ == other.__class__ and self._set == other._set\n",
    "\tdef __len__(self):\n",
    "\t\treturn len(self._set)\n",
    "\tdef __repr__(self):\n",
    "\t\treturn '{{{0}}}'.format(', '.join(map(repr, nsorted(self._set))))\n",
    "\tdef __str__(self):\n",
    "\t\treturn self.__repr__()\n",
    "\tdef __lt__(self, other):\n",
    "\t\tif other.__class__ == self.__class__:\n",
    "\t\t\treturn self._set.__lt__(other._set)\n",
    "\t\treturn self._set.__lt__(other)\n",
    "\tdef __gt__(self, other):\n",
    "\t\tif other.__class__ == self.__class__:\n",
    "\t\t\treturn self._set.__gt__(other._set)\n",
    "\t\treturn self._set.__gt__(other)\n",
    "\tdef __leq__(self, other):\n",
    "\t\tif other.__class__ == self.__class__:\n",
    "\t\t\treturn self._set.__leq__(other._set)\n",
    "\t\treturn self._set.__leq__(other)\n",
    "\tdef __geq__(self, other):\n",
    "\t\tif other.__class__ == self.__class__:\n",
    "\t\t\treturn self._set.__geq__(other._set)\n",
    "\t\treturn self._set.__geq__(other)\n",
    "\tdef __iter__(self):\n",
    "\t\treturn self._set.__iter__()\n",
    "\tdef issubset(self, other):\n",
    "\t\treturn self._set.issubset(other._set)\n",
    "\tdef issuperset(self, other):\n",
    "\t\treturn self._set.issuperset(other._set)\n",
    "\tdef union(self, other):\n",
    "\t\treturn Set((self._set.union(other._set)))\n",
    "\tdef difference(self, other):\n",
    "\t\treturn Set(self._set.difference(other._set))\n",
    "\n",
    "\tdef add(self, e):\n",
    "\t\tself._set.add(e)\n",
    "\t\tself._hash = None; self._ordered = False\n",
    "\tdef update(self, es):\n",
    "\t\tself._set.update(es)\n",
    "\t\tself._hash = None; self._ordered = False"
   ]
  },
  {
   "cell_type": "code",
   "execution_count": 4,
   "metadata": {},
   "outputs": [],
   "source": [
    "def dictUnion(a, b):\n",
    "\t'''\n",
    "\tfor sets of augmented subsequences encoded as a dict from tuples of symbols to Sets of Sets, this function unions the two sets\n",
    "\t'''\n",
    "\tans = dict()\n",
    "\tfor e in a:\n",
    "\t\tans[e] = Set()\n",
    "\tfor e in b:\n",
    "\t\tans[e] = Set()\n",
    "\t\n",
    "\tfor e in a:\n",
    "\t\tans[e].update(a[e])\n",
    "\tfor e in b:\n",
    "\t\tans[e].update(b[e])\n",
    "\treturn ans"
   ]
  },
  {
   "cell_type": "code",
   "execution_count": 5,
   "metadata": {},
   "outputs": [],
   "source": [
    "def width_j_substrings(w, j):\n",
    "    return tuple(w[i:i+j] for i in range(len(w)-j+1))"
   ]
  },
  {
   "cell_type": "code",
   "execution_count": 6,
   "metadata": {},
   "outputs": [],
   "source": [
    "class grammar_tuple(tuple):\n",
    "    '''\n",
    "    This is just a new definition for __len__ so that the len() of a grammar tuple is meaningful (rather than just always 3)\n",
    "    '''\n",
    "    def __len__(self):\n",
    "        return len(self[1]) + sum(len(item) for item in self[2].values())"
   ]
  },
  {
   "cell_type": "markdown",
   "metadata": {},
   "source": [
    "### Set the standard symbol and dependency widths"
   ]
  },
  {
   "cell_type": "code",
   "execution_count": 7,
   "metadata": {},
   "outputs": [],
   "source": [
    "K = 2 # dependency width\n",
    "M = 2 # symbol width"
   ]
  },
  {
   "cell_type": "markdown",
   "metadata": {},
   "source": [
    "### Learner definitions/prerequisites"
   ]
  },
  {
   "cell_type": "markdown",
   "metadata": {},
   "source": [
    "\"$ f : \\Sigma^* \\rightarrow \\mathcal{P} \\left( \\Sigma^{\\leq k+1} \\right) $\n",
    "gathers all and only those substrings of $w$ whose width is bounded above by $ k+1 $\""
   ]
  },
  {
   "cell_type": "code",
   "execution_count": 8,
   "metadata": {},
   "outputs": [],
   "source": [
    "def f(w, k=K):\n",
    "    return Set  (\n",
    "                    sum (\n",
    "                            tuple(width_j_substrings(w, j) for j in range(k+1+1)), #get every j-factor for every value of j up to k+1 inclusive\n",
    "                            ()\n",
    "                        )\n",
    "                )"
   ]
  },
  {
   "cell_type": "markdown",
   "metadata": {},
   "source": [
    "\"$ x : \\Sigma^* \\rightarrow \\mathcal{P} \\left( \\Sigma^{\\leq k} \\times \\mathcal{P} \\left( \\Sigma \\right) \\right) $ extracts the valid augmented subsequences of width bounded above by $k$\""
   ]
  },
  {
   "cell_type": "code",
   "execution_count": 9,
   "metadata": {},
   "outputs": [],
   "source": [
    "def x(w, k=K):\n",
    "\n",
    "    symbols_at_indices = lambda indices : tuple(w[index] for index in indices)\n",
    "    \n",
    "\n",
    "    augmented_subsequences = dict()         # Create a dictionary from subsequences to the set of their intervener sets\n",
    "    augmented_subsequences[()] = Set([Set()]) # The only set of symbols that can intervene a length-0 tuple is the empty set\n",
    "\n",
    "    for j in range(1, k+1):                                                             # iterate across factor lengths j, 1 to k inclusive\n",
    "        for subsequence_indices in list(combinations(range(len(w)), j)):                # look at each length-j subsequence of indices\n",
    "            subsequence = symbols_at_indices(subsequence_indices)               # extract the tuple of symbols at those selected indices\n",
    "            intervening_indices =   [                                                   # compute the intervening indices\n",
    "                                        intervening_index\n",
    "                                        for intervening_index in range(subsequence_indices[0], subsequence_indices[-1])\n",
    "                                        if intervening_index not in subsequence_indices\n",
    "                                    ]\n",
    "            intervening_set = Set(symbols_at_indices(intervening_indices))         # extract the set of symbols at the intervening indices\n",
    "\n",
    "            if set(subsequence).isdisjoint(set(intervening_set)):           # if there are no symbols shared by the subsequence and the interveners, this is a valid augmented subsequence\n",
    "                if subsequence not in augmented_subsequences:\n",
    "                    augmented_subsequences[subsequence] = Set()\n",
    "                augmented_subsequences[subsequence].add(intervening_set)    # add the set of augmented subsequences\n",
    "\n",
    "    return nsorted(augmented_subsequences)"
   ]
  },
  {
   "cell_type": "markdown",
   "metadata": {},
   "source": [
    "\"$ r :  \\mathcal{P} \\left( \\Sigma^{\\leq k} \\times \\mathcal{P} \\left( \\Sigma \\right) \\right) \\rightarrow \\mathcal{P} \\left( \\Sigma^{\\leq k} \\times \\mathcal{P} \\left( \\Sigma \\right) \\right)$ restricts the set of augmented subsequences to exclude any that are entailed by any other\""
   ]
  },
  {
   "cell_type": "code",
   "execution_count": 10,
   "metadata": {},
   "outputs": [],
   "source": [
    "def r(augmented_subsequences):\n",
    "    return  nsorted (\n",
    "                        {\n",
    "                            subsequence_symbols: Set((\n",
    "                                                        intervener_symbol_set\n",
    "                                                        for intervener_symbol_set in intervener_symbol_sets\n",
    "                                                        if not any  (\n",
    "                                                                            intervener_symbol_set.issuperset(other_intervener_symbol_set)\n",
    "                                                                        and\n",
    "                                                                            intervener_symbol_set != other_intervener_symbol_set\n",
    "                                                                        for other_intervener_symbol_set in intervener_symbol_sets\n",
    "                                                                    )\n",
    "\n",
    "                                                    ))\n",
    "                            for subsequence_symbols, intervener_symbol_sets in augmented_subsequences.items()\n",
    "                        }\n",
    "                    )"
   ]
  },
  {
   "cell_type": "markdown",
   "metadata": {},
   "source": [
    "### Learners"
   ]
  },
  {
   "cell_type": "markdown",
   "metadata": {},
   "source": [
    "\"We can define a learner $ \\varphi \\left( \\langle  G_{\\ell}, G_s\\rangle, w \\right) = \\langle G_{\\ell} \\cup f \\left( w \\right), r \\left( G_s \\cup x \\left( w \\right) \\right) \\rangle$\" This is `learn_step`\n",
    "\n",
    "\"The composite grammar can immediately be used as an acceptor without further processing . . . \n",
    "$ \\mathcal{L} \\left( \\langle G_{\\ell}, G_s \\rangle \\right) = \\{ w : f \\left( w \\right) \\subseteq G_{\\ell} \\land r \\left( G_s \\cup x \\left( w \\right) \\right) \\subseteq G_s \\}$\n",
    ". In words, a string is accepted iff it has only permitted substrings and each of its valid augmented subsequences is attested or entailed by something that is attested.\" This is `scan`"
   ]
  },
  {
   "cell_type": "code",
   "execution_count": 11,
   "metadata": {},
   "outputs": [],
   "source": [
    "class TSL_Learner:\n",
    "    def __init__(self, k=K):\n",
    "        self.k = k          # dependency width\n",
    "        self.G_l = Set()    # substrings of length bounded above by k+1\n",
    "        self.G_s = dict()   # augmented subsequences of length bounded above by k\n",
    "        self._data_source = None\n",
    "    def __repr__(self):\n",
    "        return f'TSL-{self.k} Grammar\\n{self.G_l}\\n{self.G_s}'\n",
    "    def __call__(self, *args, **kwargs):\n",
    "        return self.scan(*args, **kwargs)\n",
    "    def extract_alphabet(self):\n",
    "        pass # This algorithm does not require this step for learning :)\n",
    "\n",
    "    @property\n",
    "    def grammar(self):\n",
    "        return grammar_tuple((self.k, self.G_l, self.G_s))\n",
    "\n",
    "    #This is an online algorithm, so it does not need a persistent copy of the strings it sees. To highlight this, I have enforced that the learner ONLY streams inputs from an iterator, without retaining a pointer to the complete input \n",
    "    @property\n",
    "    def data(self):\n",
    "        return (w for w in [])\n",
    "    @data.setter\n",
    "    def data(self, W):\n",
    "        self._data_source = (w for w in W)\n",
    "\n",
    "\n",
    "    def preprocess(self, w):\n",
    "        return '>'*(self.k-1) + w + '<'*(self.k-1) # add word-boundary symbols\n",
    "\n",
    "    def scan(self, w_raw):\n",
    "        w = self.preprocess(w_raw)\n",
    "        return  (\n",
    "                        f(w, k = self.k).issubset(self.G_l)\n",
    "                    and\n",
    "                        all (\n",
    "                                (\n",
    "                                        subsequence in self.G_s.keys()\n",
    "                                    and\n",
    "                                        intervening_sets.issubset(self.G_s[subsequence])\n",
    "                                )\n",
    "                                for subsequence, intervening_sets in r(dictUnion(self.G_s, x(w, self.k))).items()\n",
    "                            )\n",
    "                )\n",
    "    \n",
    "    def learn_step(self, w_raw):\n",
    "        w = self.preprocess(w_raw)\n",
    "        self.G_l = self.G_l.union(f(w, k=self.k))\n",
    "        self.G_s = r(dictUnion(self.G_s, x(w, self.k)))\n",
    "    \n",
    "    def learn(self, W=None):\n",
    "        W = (w for w in (W if W is not None else self._data_source))\n",
    "        for w in tqdm(W, desc=\"Learning\"):\n",
    "            self.learn_step(w)\n",
    "\n",
    "    def generate_sample(self, n, use_iterator=False):\n",
    "        def generate_with_iterator(n=n):\n",
    "            alphabet = set(''.join(''.join(substring) for substring in self.G_l)).difference('<','>')\n",
    "\n",
    "            j = 0\n",
    "            while True:\n",
    "                for w in map(''.join, product(alphabet, repeat=j)):\n",
    "                    if self.scan(w):\n",
    "                        yield w\n",
    "                        n -= 1\n",
    "                        if n == 0:\n",
    "                            return\n",
    "                j += 1\n",
    "        return ((lambda x:x) if use_iterator else list)(generate_with_iterator())"
   ]
  },
  {
   "cell_type": "code",
   "execution_count": 12,
   "metadata": {},
   "outputs": [],
   "source": [
    "class ITSL_Learner(TSL_Learner):\n",
    "    def __init__(self, k=K, m=M):\n",
    "        super().__init__(k)\n",
    "        self.m = m             # symbol width\n",
    "    def __repr__(self):\n",
    "        return f'ITSL-({self.k}, {self.m}) Grammar\\n{self.G_l}\\n{self.G_s}'\n",
    "    @property\n",
    "    def grammar(self):\n",
    "        return grammar_tuple(((self.k, self.m), self.G_l, self.G_s))\n",
    "\n",
    "    def preprocess(self, w):\n",
    "        return width_j_substrings( #break string into width-m symbols, i.e. symbols created from m adjacent symbols\n",
    "            '>'*(self.k*self.m-1) + w + '<'*(self.k*self.m-1), # add word-boundary symbols. Adding k*m-1 ensures that the first k-factor of consecutive m-width symbols contains exactly one true symbol, analogous to adding k-1 word boundary symbols for a TSL learner    \n",
    "            self.m\n",
    "        )"
   ]
  },
  {
   "cell_type": "markdown",
   "metadata": {},
   "source": [
    "### Experiments"
   ]
  },
  {
   "cell_type": "code",
   "execution_count": 13,
   "metadata": {},
   "outputs": [
    {
     "name": "stdout",
     "output_type": "stream",
     "text": [
      "['bbabbaabbb', 'aabbabaaab', 'babbaaabba', 'ooopoooppp', 'ppoopppooo']\n",
      "['ooxxooxxxx', 'xxxaaxxxxa', 'oxxxxooxxx', 'xxxxooxxxx', 'aaxxxaxxxa']\n",
      "['ttpppptooo', 'ooppppooot', 'pppaaapppp', 'bboobbobbt', 'ppppaataaa']\n",
      "Percentage of well-formed words: 100%.\n",
      "Percentage of well-formed tonal layers: 100%.\n",
      "['abaaabbbbp', 'bpbbpbapba', 'baappapaaa', 'ppabbbaaap', 'apppbpabbp', 'aabppapapp', 'bpbppbpapp', 'abapbbbpaa', 'abpabpappa', 'paabpabpbp', 'abppbapapp', 'aaabapppaa', 'baabbbapap', 'paapppbbpa', 'aabapapaap']\n",
      "685618\n",
      "['Aa\\r', 'Aachener\\r', 'Aachenerin\\r', 'Aachenerinnen\\r', 'Aachenern\\r', 'Aacheners\\r', 'Aaden\\r', 'Aak\\r', 'Aake\\r', 'Aaken\\r'] ...\n",
      "Number of final /b/: 0\n",
      "Number of final /d/: 0\n",
      "Number of final /g/: 0\n",
      "685147\n",
      "Clean dataset: ['aa\\r', 'aachener\\r', 'aachenerin\\r', 'aachenerinnen\\r', 'aachenern\\r', 'aacheners\\r', 'aaden\\r', 'aak\\r', 'aake\\r', 'aaken\\r', 'aakerbeere\\r', 'aakerbeeren\\r', 'aakes\\r', 'aaks\\r', 'aal\\r'] ...\n",
      "\n",
      "471\n",
      "Banned words: ['abbé\\r', 'abbés\\r', 'abrégé\\r', 'abrégés\\r', 'acheuléen\\r', 'acheuléens\\r', 'agrément\\r', 'agréments\\r', 'ampère\\r', 'ångström\\r'] ...\n",
      "685147\n",
      "Masked words: ['aakaabaaaaa', 'aakaabaaaaaa', 'aakaaa', 'aakaa', 'aaaa'] ...\n",
      "['ooxxxxoxxo', 'xxooxxooxx', 'oxxooxxxoo', 'ooxxoxxxxo', 'aaxxaxxxaa', 'oxxooxxxxo', 'aaxxxxaxxx', 'xxaxxaxxxx', 'xxxoxxooxx', 'xxxxooxxxo', 'aaxxxxaxxa', 'aaxxxaxxxx', 'ooxxooxxxx', 'ooxxoxxxxo', 'xxxxaaxxxa'] ...\n",
      "287699\n",
      "['/* WP Hardening - 2016-06-19 19:09:32.261648 *', 'a', 'aa', 'aaa', 'aaaaaah', 'aaah', 'aaassa', 'aab', 'aaberge', 'aabraham'] ...\n",
      "250805\n",
      "Clean dataset: ['liitettAvAA', 'liitetyksi', 'liitetyt', 'liitetAAn', 'liitingin', 'liito', 'liitoille', 'liitoilleen', 'liitoissa', 'liitoista', 'liitoistaan', 'liitoksen', 'liitoksena', 'liitokset', 'liitoksi'] ...\n",
      "\n",
      "331\n",
      "Banned words: ['bl}baer', 'bl}field', 'bl}fieldin', 'bl}sar', 'bl}sare'] ...\n",
      "\n",
      "36563\n",
      "Non-harmonic words: ['aakkosjArjestykseen', 'aakkosjArjestyksessA', 'aaltoliikettA'] ...\n",
      "250805\n",
      "Masked words: ['xauxaxxxxxoxxxxa', 'xauxaxxxxxoxxxxx', 'xauxaxxxxxxxax', 'xauxaxxxx', 'xauxaxxxxuxxxxx'] ...\n",
      "['fxaxaxxaxf', 'ooxfaxxxaa', 'fafxxxaxaa', 'faaxxfaxxx', 'afffxxxaxx', 'xxxaaxfxxx', 'xfaxxaaxxa', 'ooxooxxoox', 'xxooxxxoxo', 'xfaxxfxaaf', 'ffaxxxaaxx', 'oxxofxfxxx', 'fxxxaxaafa', 'oxxxooxxox', 'axxaxfxxxa'] ...\n",
      "['oxxxoxxxxo', 'eexxxexxxx', 'uxxxxuxxuu', 'xxxxuuxxxx', 'xxxoxxxxoo', 'ooxxxooxxx', 'ooxxoxxxxo', 'xxxaaxxxaa', 'aaxxaaxxaa', 'uxxxuuxxxx', 'uuxxuxxxuu', 'exxxxeexxx', 'oxxxooxxxx', 'xxxxuxxxxu', 'uuxxuuxxxx'] ...\n",
      "['xxxIIxax', 'IIxxxIxx', 'aaxaxxaa', 'xxxOexix', 'axxxaxxx', 'uuaxxaax', 'Uxexixxx', 'aIIxIIxx', 'xxxoxxxu', 'xxeexxei', 'oxxuuaxx', 'xuuxxaxx', 'xeeiieex', 'xxiixiix', 'xiiiexxe'] ...\n",
      "890\n",
      "['ey-', 'gadr-', 'eG-', 'kesr-', 'tard-', 'keyf-', 'kos-', 'ledel-', 'garb-', 'ekto-', 'ekz-', 'fasl-', 'elektrik-Gi', 'elektro-', 'terkib-', 'abs-', 'lem-', 'koyn-', 'sUlUUk-u', 'hacr-', 'hacz-', 'hadd-', 'tesb-', 'li-', 'kIral-', 'hafid-', 'kriyo-', 'kriz-', 'hakk-', 'kIKr-'] ...\n",
      "\n",
      "10545\n",
      "['kesad', 'konukomKu', 'kesafet', 'somaki', 'kesan', 'kesat', 'lagemut', 'lagos', 'fuzuli', 'eyalet', 'rufai', 'ruhulkudUs', 'gaavur', 'gaavurca', 'gabardin', 'gabari', 'gabavet', 'kesedar', 'somye', 'konvansiyon', 'kooperatif', 'koordinasyon', 'sondeyiK', 'gabi', 'gabin', 'eylUUl', 'gabro', 'eylUl', 'eytam', 'gaco'] ...\n",
      "\n",
      "14434\n",
      "['som', 'lafazan', 'konuk', 'kekti', 'lafzan', 'konukCu', 'somak', 'laGar', 'laGIm', 'konulmak', 'somruk', 'laGIv', 'konum', 'somun', 'kesb', 'somurdanmak', 'konuk', 'somurmak', 'romanyalI', 'ru', 'ey', 'fuzul', 'gaah', 'eyer', 'gaasIb', 'eyercilik', 'rum', 'eyi', 'rumca', 'eyice'] ...\n",
      "14434\n",
      "Masked words: ['xOxxex', 'xaxxaxxIxxax', 'xOxxUx', 'xaxxaxIx', 'xOxex'] ...\n",
      "['ppoopppooo', 'oppooppoop', 'aaapaapaaa', 'obbboobooo', 'bobbboobbb', 'aaabbaaabb', 'papaaappaa', 'bbabbbaabb', 'booobooobb', 'ooopoppooo', 'oopooopopo', 'aabaaabaaa', 'baaabbaabb', 'bbbooboobo', 'aaappaaapp'] ...\n",
      "['ppapttptpa', 'oopotopotp', 'aababaabbt', 'ptooppoopp', 'appttapaap', 'popootoopp', 'ttopooppoo', 'bboobbobot', 'abbaabbaat', 'bboobtpoop', 'ptotpopopo', 'oboobobboo', 'ppaatttaap', 'oppooppoop', 'abatapptaa'] ...\n",
      "['HHHHL', 'LHHHH', 'LLHHH', 'LHHHH', 'LHHLL', 'HHHHH', 'HLLLL', 'HHHHH', 'HHHHH', 'HHHHL', 'HHHHH', 'HHHLL', 'HHHHL', 'HHHHL', 'HLLLL'] ...\n",
      "['axxoxaaaaa', 'aaoaoxxaxa', 'oxaoaoaaao', 'ooxxoaooao', 'axaaaxooxa', 'axoxxxoxoa', 'ooaaxaxooo', 'oxooxxaooo', 'ooaaxaoaxo', 'oxaoaaaxxo', 'aaaaaxoxoa', 'aaoxaxoooa', 'aaaaaoaaxa', 'aooxxooxoa', 'oxaoxxxaao'] ...\n"
     ]
    }
   ],
   "source": [
    "tsl_args = [TSL_Learner, \"tsl\", [], {'k':2}]\n",
    "itsl_args = [ITSL_Learner, \"itsl\", [], {'k':2, 'm':2}]\n",
    "from Aksenova import experiments, run_experiment"
   ]
  },
  {
   "cell_type": "markdown",
   "metadata": {},
   "source": [
    "#### TSL experiments"
   ]
  },
  {
   "cell_type": "code",
   "execution_count": 14,
   "metadata": {},
   "outputs": [
    {
     "name": "stdout",
     "output_type": "stream",
     "text": [
      "Word-final devoicing, Artificial Grammar\n"
     ]
    },
    {
     "name": "stderr",
     "output_type": "stream",
     "text": [
      "Learning: 1001it [00:00, 2685.50it/s]\n"
     ]
    },
    {
     "name": "stdout",
     "output_type": "stream",
     "text": [
      "Percentage of well-formed words: 100%.\n",
      "--------------------------\n",
      "Generates such strings: ['', 'aa', 'ap', 'ba', 'bp', 'pa', 'pp', 'aaa', 'aap', 'aba', 'abp', 'apa', 'app', 'baa', 'bap']\n",
      "--------------------------\n",
      "Size of the grammar: 86\n",
      "--------------------------\n",
      "Grammars: (2, {'', '<', '>', 'a', 'b', 'p', '><', '>a', '>b', '>p', 'a<', 'aa', 'ab', 'ap', 'ba', 'bb', 'bp', 'p<', 'pa', 'pb', 'pp', '>aa', '>ab', '>ap', '>ba', '>bb', '>bp', '>pa', '>pb', '>pp', 'aa<', 'aaa', 'aab', 'aap', 'aba', 'abb', 'abp', 'ap<', 'apa', 'apb', 'app', 'ba<', 'baa', 'bab', 'bap', 'bba', 'bbb', 'bbp', 'bp<', 'bpa', 'bpb', 'bpp', 'pa<', 'paa', 'pab', 'pap', 'pba', 'pbb', 'pbp', 'pp<', 'ppa', 'ppb', 'ppp'}, {(): {{}}, ('<',): {{}}, ('>',): {{}}, ('a',): {{}}, ('b',): {{}}, ('p',): {{}}, ('>', '<'): {{}}, ('>', 'a'): {{}}, ('>', 'b'): {{}}, ('>', 'p'): {{}}, ('a', '<'): {{}}, ('a', 'a'): {{}}, ('a', 'b'): {{}}, ('a', 'p'): {{}}, ('b', '<'): {{'a'}, {'p'}}, ('b', 'a'): {{}}, ('b', 'b'): {{}}, ('b', 'p'): {{}}, ('p', '<'): {{}}, ('p', 'a'): {{}}, ('p', 'b'): {{}}, ('p', 'p'): {{}}})\n",
      "\n",
      "Word-final devoicing, German simplified\n"
     ]
    },
    {
     "name": "stderr",
     "output_type": "stream",
     "text": [
      "Learning: 685148it [08:02, 1420.20it/s]\n"
     ]
    },
    {
     "name": "stdout",
     "output_type": "stream",
     "text": [
      "Percentage of well-formed words: 100%.\n",
      "--------------------------\n",
      "Generates such strings: ['', 'aa', 'ka', 'ta', 'ba', 'pa', 'da', 'ga', 'aaa', 'aka', 'ata', 'aba', 'apa', 'ada', 'aga']\n",
      "--------------------------\n",
      "Size of the grammar: 336\n",
      "--------------------------\n",
      "Grammars: (2, {'', '<', '>', 'a', 'b', 'd', 'g', 'k', 'p', 't', '><', '>a', '>b', '>d', '>g', '>k', '>p', '>t', 'a<', 'aa', 'ab', 'ad', 'ag', 'ak', 'ap', 'at', 'ba', 'bb', 'bd', 'bg', 'bk', 'bp', 'bt', 'da', 'db', 'dd', 'dg', 'dk', 'dp', 'dt', 'ga', 'gb', 'gd', 'gg', 'gk', 'gp', 'gt', 'ka', 'kb', 'kd', 'kg', 'kk', 'kp', 'kt', 'pa', 'pb', 'pd', 'pg', 'pk', 'pp', 'pt', 'ta', 'tb', 'td', 'tg', 'tk', 'tp', 'tt', '>aa', '>ab', '>ad', '>ag', '>ak', '>ap', '>at', '>ba', '>da', '>ga', '>ka', '>pa', '>pk', '>pt', '>ta', 'aa<', 'aaa', 'aab', 'aad', 'aag', 'aak', 'aap', 'aat', 'aba', 'abb', 'abd', 'abg', 'abk', 'abp', 'abt', 'ada', 'adb', 'add', 'adg', 'adk', 'adp', 'adt', 'aga', 'agb', 'agd', 'agg', 'agk', 'agp', 'agt', 'aka', 'akb', 'akd', 'akg', 'akk', 'akp', 'akt', 'apa', 'apb', 'apd', 'apg', 'apk', 'app', 'apt', 'ata', 'atb', 'atd', 'atg', 'atk', 'atp', 'att', 'ba<', 'baa', 'bab', 'bad', 'bag', 'bak', 'bap', 'bat', 'bba', 'bbt', 'bda', 'bga', 'bka', 'bpa', 'bta', 'btg', 'btk', 'da<', 'daa', 'dab', 'dad', 'dag', 'dak', 'dap', 'dat', 'dba', 'dda', 'ddp', 'dga', 'dka', 'dpa', 'dta', 'dtb', 'dtd', 'dtg', 'dtk', 'dtp', 'dtt', 'ga<', 'gaa', 'gab', 'gad', 'gag', 'gak', 'gap', 'gat', 'gba', 'gda', 'gdb', 'gdg', 'gdk', 'gdp', 'gdt', 'gga', 'ggt', 'gka', 'gpa', 'gta', 'gtb', 'gtd', 'gtt', 'ka<', 'kaa', 'kab', 'kad', 'kag', 'kak', 'kap', 'kat', 'kba', 'kda', 'kga', 'kka', 'kkt', 'kpa', 'kta', 'ktb', 'ktd', 'ktg', 'ktk', 'ktp', 'ktt', 'pa<', 'paa', 'pab', 'pad', 'pag', 'pak', 'pap', 'pat', 'pba', 'pda', 'pga', 'pka', 'ppa', 'ppb', 'ppd', 'ppg', 'ppk', 'ppp', 'ppt', 'pta', 'ptb', 'ptd', 'ptg', 'ptk', 'ptp', 'ptt', 'ta<', 'taa', 'tab', 'tad', 'tag', 'tak', 'tap', 'tat', 'tba', 'tda', 'tga', 'tgt', 'tka', 'tpa', 'tta', 'ttb', 'ttd', 'ttg', 'ttk', 'ttp', 'ttt'}, {(): {{}}, ('<',): {{}}, ('>',): {{}}, ('a',): {{}}, ('b',): {{}}, ('d',): {{}}, ('g',): {{}}, ('k',): {{}}, ('p',): {{}}, ('t',): {{}}, ('>', '<'): {{}}, ('>', 'a'): {{}}, ('>', 'b'): {{}}, ('>', 'd'): {{}}, ('>', 'g'): {{}}, ('>', 'k'): {{}}, ('>', 'p'): {{}}, ('>', 't'): {{}}, ('a', '<'): {{}}, ('a', 'a'): {{}}, ('a', 'b'): {{}}, ('a', 'd'): {{}}, ('a', 'g'): {{}}, ('a', 'k'): {{}}, ('a', 'p'): {{}}, ('a', 't'): {{}}, ('b', '<'): {{'a'}}, ('b', 'a'): {{}}, ('b', 'b'): {{}}, ('b', 'd'): {{}}, ('b', 'g'): {{}}, ('b', 'k'): {{}}, ('b', 'p'): {{}}, ('b', 't'): {{}}, ('d', '<'): {{'a'}}, ('d', 'a'): {{}}, ('d', 'b'): {{}}, ('d', 'd'): {{}}, ('d', 'g'): {{}}, ('d', 'k'): {{}}, ('d', 'p'): {{}}, ('d', 't'): {{}}, ('g', '<'): {{'a'}}, ('g', 'a'): {{}}, ('g', 'b'): {{}}, ('g', 'd'): {{}}, ('g', 'g'): {{}}, ('g', 'k'): {{}}, ('g', 'p'): {{}}, ('g', 't'): {{}}, ('k', '<'): {{'a'}}, ('k', 'a'): {{}}, ('k', 'b'): {{}}, ('k', 'd'): {{}}, ('k', 'g'): {{}}, ('k', 'k'): {{}}, ('k', 'p'): {{}}, ('k', 't'): {{}}, ('p', '<'): {{'a'}}, ('p', 'a'): {{}}, ('p', 'b'): {{}}, ('p', 'd'): {{}}, ('p', 'g'): {{}}, ('p', 'k'): {{}}, ('p', 'p'): {{}}, ('p', 't'): {{}}, ('t', '<'): {{'a'}}, ('t', 'a'): {{}}, ('t', 'b'): {{}}, ('t', 'd'): {{}}, ('t', 'g'): {{}}, ('t', 'k'): {{}}, ('t', 'p'): {{}}, ('t', 't'): {{}}})\n",
      "\n",
      "Single vowel harmony without blocking, Artificial Grammar\n"
     ]
    },
    {
     "name": "stderr",
     "output_type": "stream",
     "text": [
      "Learning: 1001it [00:00, 2862.71it/s]\n"
     ]
    },
    {
     "name": "stdout",
     "output_type": "stream",
     "text": [
      "Percentage of harmonic words: 100%.\n",
      "set()\n",
      "--------------------------\n",
      "Generates such strings: ['', 'aa', 'xx', 'oo', 'axx', 'xxa', 'xxx', 'xxo', 'oxx', 'aaxx', 'axxa', 'axxx', 'xxaa', 'xxxa', 'xxxx']\n",
      "--------------------------\n",
      "Size of the grammar: 61\n",
      "--------------------------\n",
      "Grammars: (2, {'', '<', '>', 'a', 'o', 'x', '><', '>a', '>o', '>x', 'a<', 'aa', 'ax', 'o<', 'oo', 'ox', 'x<', 'xa', 'xo', 'xx', '>aa', '>ax', '>oo', '>ox', '>xx', 'aa<', 'aax', 'axx', 'oo<', 'oox', 'oxx', 'xa<', 'xaa', 'xax', 'xo<', 'xoo', 'xox', 'xx<', 'xxa', 'xxo', 'xxx'}, {(): {{}}, ('<',): {{}}, ('>',): {{}}, ('a',): {{}}, ('o',): {{}}, ('x',): {{}}, ('>', '<'): {{}}, ('>', 'a'): {{}}, ('>', 'o'): {{}}, ('>', 'x'): {{}}, ('a', '<'): {{}}, ('a', 'a'): {{}}, ('a', 'x'): {{}}, ('o', '<'): {{}}, ('o', 'o'): {{}}, ('o', 'x'): {{}}, ('x', '<'): {{}}, ('x', 'a'): {{}}, ('x', 'o'): {{}}, ('x', 'x'): {{}}})\n",
      "\n",
      "Single vowel harmony without blocking, Simplified Finnish harmony\n"
     ]
    },
    {
     "name": "stderr",
     "output_type": "stream",
     "text": [
      "Learning: 250806it [02:26, 1714.75it/s]\n"
     ]
    },
    {
     "name": "stdout",
     "output_type": "stream",
     "text": [
      "Percentage of harmonic words: 100%.\n",
      "set()\n",
      "--------------------------\n",
      "Generates such strings: ['', 'a', 'x', 'A', 'u', 'y', 'O', 'o', 'aa', 'ax', 'au', 'ao', 'xa', 'xx', 'xA']\n",
      "--------------------------\n",
      "Size of the grammar: 288\n",
      "--------------------------\n",
      "Grammars: (2, {'', '<', '>', 'A', 'O', 'a', 'o', 'u', 'x', 'y', '><', '>A', '>O', '>a', '>o', '>u', '>x', '>y', 'A<', 'AA', 'AO', 'Ax', 'Ay', 'O<', 'OA', 'OO', 'Ox', 'Oy', 'a<', 'aa', 'ao', 'au', 'ax', 'o<', 'oa', 'oo', 'ou', 'ox', 'u<', 'ua', 'uo', 'uu', 'ux', 'x<', 'xA', 'xO', 'xa', 'xo', 'xu', 'xx', 'xy', 'y<', 'yA', 'yO', 'yx', 'yy', '>A<', '>AA', '>Ax', '>Ay', '>O<', '>OO', '>Ox', '>Oy', '>a<', '>aa', '>ao', '>au', '>ax', '>o<', '>oa', '>oo', '>ou', '>ox', '>u<', '>ua', '>uo', '>uu', '>ux', '>x<', '>xA', '>xO', '>xa', '>xo', '>xu', '>xx', '>xy', '>y<', '>yA', '>yO', '>yx', '>yy', 'AA<', 'AAA', 'AAx', 'AAy', 'AOx', 'Ax<', 'AxA', 'AxO', 'Axx', 'Axy', 'Ay<', 'AyO', 'Ayx', 'OA<', 'OAA', 'OAx', 'OO<', 'OOO', 'OOx', 'Ox<', 'OxA', 'OxO', 'Oxx', 'Oxy', 'Oy<', 'Oyx', 'aa<', 'aaa', 'aao', 'aau', 'aax', 'ao<', 'aoa', 'aoo', 'aou', 'aox', 'au<', 'aua', 'auo', 'auu', 'aux', 'ax<', 'axa', 'axo', 'axu', 'axx', 'oa<', 'oaa', 'oao', 'oau', 'oax', 'oo<', 'ooa', 'ooo', 'oou', 'oox', 'ou<', 'oua', 'ouu', 'oux', 'ox<', 'oxa', 'oxo', 'oxu', 'oxx', 'ua<', 'uaa', 'uao', 'uau', 'uax', 'uo<', 'uoa', 'uoo', 'uou', 'uox', 'uu<', 'uua', 'uuo', 'uuu', 'uux', 'ux<', 'uxa', 'uxo', 'uxu', 'uxx', 'xA<', 'xAA', 'xAO', 'xAx', 'xAy', 'xO<', 'xOA', 'xOO', 'xOx', 'xOy', 'xa<', 'xaa', 'xao', 'xau', 'xax', 'xo<', 'xoa', 'xoo', 'xou', 'xox', 'xu<', 'xua', 'xuo', 'xuu', 'xux', 'xx<', 'xxA', 'xxO', 'xxa', 'xxo', 'xxu', 'xxx', 'xxy', 'xy<', 'xyA', 'xyO', 'xyx', 'xyy', 'yA<', 'yAA', 'yAx', 'yO<', 'yOA', 'yOO', 'yOx', 'yOy', 'yx<', 'yxA', 'yxO', 'yxx', 'yxy', 'yy<', 'yyA', 'yyx', 'yyy'}, {(): {{}}, ('<',): {{}}, ('>',): {{}}, ('A',): {{}}, ('O',): {{}}, ('a',): {{}}, ('o',): {{}}, ('u',): {{}}, ('x',): {{}}, ('y',): {{}}, ('>', '<'): {{}}, ('>', 'A'): {{}}, ('>', 'O'): {{}}, ('>', 'a'): {{}}, ('>', 'o'): {{}}, ('>', 'u'): {{}}, ('>', 'x'): {{}}, ('>', 'y'): {{}}, ('A', '<'): {{}}, ('A', 'A'): {{}}, ('A', 'O'): {{}}, ('A', 'x'): {{}}, ('A', 'y'): {{}}, ('O', '<'): {{}}, ('O', 'A'): {{}}, ('O', 'O'): {{}}, ('O', 'x'): {{}}, ('O', 'y'): {{}}, ('a', '<'): {{}}, ('a', 'a'): {{}}, ('a', 'o'): {{}}, ('a', 'u'): {{}}, ('a', 'x'): {{}}, ('o', '<'): {{}}, ('o', 'a'): {{}}, ('o', 'o'): {{}}, ('o', 'u'): {{}}, ('o', 'x'): {{}}, ('u', '<'): {{}}, ('u', 'a'): {{}}, ('u', 'o'): {{}}, ('u', 'u'): {{}}, ('u', 'x'): {{}}, ('x', '<'): {{}}, ('x', 'A'): {{}}, ('x', 'O'): {{}}, ('x', 'a'): {{}}, ('x', 'o'): {{}}, ('x', 'u'): {{}}, ('x', 'x'): {{}}, ('x', 'y'): {{}}, ('y', '<'): {{}}, ('y', 'A'): {{}}, ('y', 'O'): {{}}, ('y', 'x'): {{}}, ('y', 'y'): {{}}})\n",
      "\n",
      "Single vowel harmony with blockers, Artificial Grammar\n"
     ]
    },
    {
     "name": "stderr",
     "output_type": "stream",
     "text": [
      "Learning: 1001it [00:00, 2289.80it/s]\n"
     ]
    },
    {
     "name": "stdout",
     "output_type": "stream",
     "text": [
      "Percentage of harmonic words: 100%.\n",
      "set()\n",
      "--------------------------\n",
      "Generates such strings: ['', 'aa', 'ax', 'af', 'xa', 'xx', 'xo', 'xf', 'ox', 'oo', 'of', 'fa', 'fx', 'ff', 'aax']\n",
      "--------------------------\n",
      "Size of the grammar: 123\n",
      "--------------------------\n",
      "Grammars: (2, {'', '<', '>', 'a', 'f', 'o', 'x', '><', '>a', '>f', '>o', '>x', 'a<', 'aa', 'af', 'ax', 'f<', 'fa', 'ff', 'fx', 'o<', 'of', 'oo', 'ox', 'x<', 'xa', 'xf', 'xo', 'xx', '>aa', '>af', '>ax', '>fa', '>ff', '>fx', '>of', '>oo', '>ox', '>xa', '>xf', '>xo', '>xx', 'aa<', 'aaf', 'aax', 'af<', 'afa', 'aff', 'afx', 'ax<', 'axa', 'axf', 'axx', 'fa<', 'faa', 'faf', 'fax', 'ff<', 'ffa', 'fff', 'ffx', 'fx<', 'fxa', 'fxf', 'fxx', 'of<', 'ofa', 'off', 'ofx', 'oo<', 'oof', 'oox', 'ox<', 'oxf', 'oxo', 'oxx', 'xa<', 'xaa', 'xaf', 'xax', 'xf<', 'xfa', 'xff', 'xfx', 'xo<', 'xof', 'xoo', 'xox', 'xx<', 'xxa', 'xxf', 'xxo', 'xxx'}, {(): {{}}, ('<',): {{}}, ('>',): {{}}, ('a',): {{}}, ('f',): {{}}, ('o',): {{}}, ('x',): {{}}, ('>', '<'): {{}}, ('>', 'a'): {{}}, ('>', 'f'): {{}}, ('>', 'o'): {{}}, ('>', 'x'): {{}}, ('a', '<'): {{}}, ('a', 'a'): {{}}, ('a', 'f'): {{}}, ('a', 'x'): {{}}, ('f', '<'): {{}}, ('f', 'a'): {{}}, ('f', 'f'): {{}}, ('f', 'x'): {{}}, ('o', '<'): {{}}, ('o', 'a'): {{'f'}}, ('o', 'f'): {{}}, ('o', 'o'): {{}}, ('o', 'x'): {{}}, ('x', '<'): {{}}, ('x', 'a'): {{}}, ('x', 'f'): {{}}, ('x', 'o'): {{}}, ('x', 'x'): {{}}})\n",
      "\n",
      "Two vowel harmonies, no blockers, Artificial Grammar\n"
     ]
    },
    {
     "name": "stderr",
     "output_type": "stream",
     "text": [
      "Learning: 1001it [00:00, 2509.57it/s]\n"
     ]
    },
    {
     "name": "stdout",
     "output_type": "stream",
     "text": [
      "Percentage of harmonic words: 100%.\n",
      "set()\n",
      "--------------------------\n",
      "Generates such strings: ['', 'aa', 'uu', 'xx', 'oo', 'ee', 'axx', 'uxx', 'xxa', 'xxu', 'xxx', 'xxo', 'xxe', 'oxx', 'exx']\n",
      "--------------------------\n",
      "Size of the grammar: 103\n",
      "--------------------------\n",
      "Grammars: (2, {'', '<', '>', 'a', 'e', 'o', 'u', 'x', '><', '>a', '>e', '>o', '>u', '>x', 'a<', 'aa', 'ax', 'e<', 'ee', 'ex', 'o<', 'oo', 'ox', 'u<', 'uu', 'ux', 'x<', 'xa', 'xe', 'xo', 'xu', 'xx', '>aa', '>ax', '>ee', '>ex', '>oo', '>ox', '>uu', '>ux', '>xx', 'aa<', 'aax', 'axx', 'ee<', 'eex', 'exx', 'oo<', 'oox', 'oxx', 'uu<', 'uux', 'uxx', 'xa<', 'xaa', 'xax', 'xe<', 'xee', 'xex', 'xo<', 'xoo', 'xox', 'xu<', 'xuu', 'xux', 'xx<', 'xxa', 'xxe', 'xxo', 'xxu', 'xxx'}, {(): {{}}, ('<',): {{}}, ('>',): {{}}, ('a',): {{}}, ('e',): {{}}, ('o',): {{}}, ('u',): {{}}, ('x',): {{}}, ('>', '<'): {{}}, ('>', 'a'): {{}}, ('>', 'e'): {{}}, ('>', 'o'): {{}}, ('>', 'u'): {{}}, ('>', 'x'): {{}}, ('a', '<'): {{}}, ('a', 'a'): {{}}, ('a', 'x'): {{}}, ('e', '<'): {{}}, ('e', 'e'): {{}}, ('e', 'x'): {{}}, ('o', '<'): {{}}, ('o', 'o'): {{}}, ('o', 'x'): {{}}, ('u', '<'): {{}}, ('u', 'u'): {{}}, ('u', 'x'): {{}}, ('x', '<'): {{}}, ('x', 'a'): {{}}, ('x', 'e'): {{}}, ('x', 'o'): {{}}, ('x', 'u'): {{}}, ('x', 'x'): {{}}})\n",
      "\n",
      "Two vowel harmonies with vowel blockers, Artificial Grammar\n"
     ]
    },
    {
     "name": "stderr",
     "output_type": "stream",
     "text": [
      "Learning: 11001it [00:05, 2167.80it/s]\n"
     ]
    },
    {
     "name": "stdout",
     "output_type": "stream",
     "text": [
      "Percentage of harmonic words: 100%.\n",
      "set()\n",
      "--------------------------\n",
      "Generates such strings: ['', 'aa', 'ax', 'aI', 'ii', 'ix', 'ie', 'UU', 'Ux', 'Ue', 'xa', 'xi', 'xU', 'xx', 'xu']\n",
      "--------------------------\n",
      "Size of the grammar: 303\n",
      "--------------------------\n",
      "Grammars: (2, {'', '<', '>', 'I', 'O', 'U', 'a', 'e', 'i', 'o', 'u', 'x', '><', '>I', '>O', '>U', '>a', '>e', '>i', '>o', '>u', '>x', 'I<', 'II', 'Ia', 'Ix', 'O<', 'OU', 'Oe', 'Ox', 'U<', 'UU', 'Ue', 'Ux', 'a<', 'aI', 'aa', 'ax', 'e<', 'ee', 'ei', 'ex', 'i<', 'ie', 'ii', 'ix', 'o<', 'oa', 'ou', 'ox', 'u<', 'ua', 'uu', 'ux', 'x<', 'xI', 'xO', 'xU', 'xa', 'xe', 'xi', 'xo', 'xu', 'xx', '>II', '>Ia', '>Ix', '>OU', '>Oe', '>Ox', '>UU', '>Ue', '>Ux', '>aI', '>aa', '>ax', '>ee', '>ei', '>ex', '>ie', '>ii', '>ix', '>oa', '>ou', '>ox', '>ua', '>uu', '>ux', '>xI', '>xO', '>xU', '>xa', '>xe', '>xi', '>xo', '>xu', '>xx', 'II<', 'III', 'IIa', 'IIx', 'Ia<', 'IaI', 'Iaa', 'Iax', 'Ix<', 'IxI', 'Ixa', 'Ixx', 'OU<', 'OUU', 'OUe', 'OUx', 'Oe<', 'Oee', 'Oei', 'Oex', 'Ox<', 'OxU', 'Oxe', 'Oxx', 'UU<', 'UUU', 'UUe', 'UUx', 'Ue<', 'Uee', 'Uei', 'Uex', 'Ux<', 'UxU', 'Uxe', 'Uxx', 'aI<', 'aII', 'aIa', 'aIx', 'aa<', 'aaI', 'aaa', 'aax', 'ax<', 'axI', 'axa', 'axx', 'ee<', 'eee', 'eei', 'eex', 'ei<', 'eie', 'eii', 'eix', 'ex<', 'exe', 'exi', 'exx', 'ie<', 'iee', 'iei', 'iex', 'ii<', 'iie', 'iii', 'iix', 'ix<', 'ixe', 'ixi', 'ixx', 'oa<', 'oaI', 'oaa', 'oax', 'ou<', 'oua', 'ouu', 'oux', 'ox<', 'oxa', 'oxu', 'oxx', 'ua<', 'uaI', 'uaa', 'uax', 'uu<', 'uua', 'uuu', 'uux', 'ux<', 'uxa', 'uxu', 'uxx', 'xI<', 'xII', 'xIa', 'xIx', 'xO<', 'xOU', 'xOe', 'xOx', 'xU<', 'xUU', 'xUe', 'xUx', 'xa<', 'xaI', 'xaa', 'xax', 'xe<', 'xee', 'xei', 'xex', 'xi<', 'xie', 'xii', 'xix', 'xo<', 'xoa', 'xou', 'xox', 'xu<', 'xua', 'xuu', 'xux', 'xx<', 'xxI', 'xxO', 'xxU', 'xxa', 'xxe', 'xxi', 'xxo', 'xxu', 'xxx'}, {(): {{}}, ('<',): {{}}, ('>',): {{}}, ('I',): {{}}, ('O',): {{}}, ('U',): {{}}, ('a',): {{}}, ('e',): {{}}, ('i',): {{}}, ('o',): {{}}, ('u',): {{}}, ('x',): {{}}, ('>', '<'): {{}}, ('>', 'I'): {{}}, ('>', 'O'): {{}}, ('>', 'U'): {{}}, ('>', 'a'): {{}}, ('>', 'e'): {{}}, ('>', 'i'): {{}}, ('>', 'o'): {{}}, ('>', 'u'): {{}}, ('>', 'x'): {{}}, ('I', '<'): {{}}, ('I', 'I'): {{}}, ('I', 'a'): {{}}, ('I', 'x'): {{}}, ('O', '<'): {{}}, ('O', 'U'): {{}}, ('O', 'e'): {{}}, ('O', 'i'): {{'e'}}, ('O', 'x'): {{}}, ('U', '<'): {{}}, ('U', 'U'): {{}}, ('U', 'e'): {{}}, ('U', 'i'): {{'e'}}, ('U', 'x'): {{}}, ('a', '<'): {{}}, ('a', 'I'): {{}}, ('a', 'a'): {{}}, ('a', 'x'): {{}}, ('e', '<'): {{}}, ('e', 'e'): {{}}, ('e', 'i'): {{}}, ('e', 'x'): {{}}, ('i', '<'): {{}}, ('i', 'e'): {{}}, ('i', 'i'): {{}}, ('i', 'x'): {{}}, ('o', '<'): {{}}, ('o', 'I'): {{'a'}}, ('o', 'a'): {{}}, ('o', 'u'): {{}}, ('o', 'x'): {{}}, ('u', '<'): {{}}, ('u', 'I'): {{'a'}}, ('u', 'a'): {{}}, ('u', 'u'): {{}}, ('u', 'x'): {{}}, ('x', '<'): {{}}, ('x', 'I'): {{}}, ('x', 'O'): {{}}, ('x', 'U'): {{}}, ('x', 'a'): {{}}, ('x', 'e'): {{}}, ('x', 'i'): {{}}, ('x', 'o'): {{}}, ('x', 'u'): {{}}, ('x', 'x'): {{}}})\n",
      "\n",
      "Two vowel harmonies with vowel blockers, Simplified Turkish harmony\n"
     ]
    },
    {
     "name": "stderr",
     "output_type": "stream",
     "text": [
      "Learning: 14435it [00:06, 2273.53it/s]\n"
     ]
    },
    {
     "name": "stdout",
     "output_type": "stream",
     "text": [
      "Percentage of harmonic words: 100%.\n",
      "set()\n",
      "--------------------------\n",
      "Generates such strings: ['', 'a', 'i', 'U', 'x', 'u', 'O', 'o', 'I', 'e', 'aa', 'ax', 'ii', 'ix', 'Ux']\n",
      "--------------------------\n",
      "Size of the grammar: 255\n",
      "--------------------------\n",
      "Grammars: (2, {'', '<', '>', 'I', 'O', 'U', 'a', 'e', 'i', 'o', 'u', 'x', '><', '>I', '>O', '>U', '>a', '>e', '>i', '>o', '>u', '>x', 'I<', 'II', 'Ia', 'Ix', 'O<', 'Ox', 'U<', 'UU', 'Ue', 'Ux', 'a<', 'aI', 'aa', 'ax', 'e<', 'ee', 'ei', 'ex', 'i<', 'ie', 'ii', 'ix', 'o<', 'oa', 'ox', 'u<', 'ua', 'uu', 'ux', 'x<', 'xI', 'xO', 'xU', 'xa', 'xe', 'xi', 'xo', 'xu', 'xx', '>I<', '>Ia', '>Ix', '>O<', '>Ox', '>U<', '>Ux', '>a<', '>aa', '>ax', '>e<', '>ex', '>i<', '>ii', '>ix', '>o<', '>ox', '>u<', '>ux', '>x<', '>xI', '>xO', '>xU', '>xa', '>xe', '>xi', '>xo', '>xu', '>xx', 'II<', 'IIa', 'IIx', 'Ia<', 'Iaa', 'Iax', 'Ix<', 'IxI', 'Ixa', 'Ixx', 'Ox<', 'OxU', 'Oxe', 'Oxx', 'UU<', 'UUx', 'Uex', 'Ux<', 'UxU', 'Uxe', 'Uxx', 'aII', 'aIx', 'aa<', 'aaa', 'aax', 'ax<', 'axI', 'axa', 'axx', 'eex', 'ei<', 'eix', 'ex<', 'exe', 'exi', 'exx', 'ie<', 'iex', 'ii<', 'iix', 'ix<', 'ixe', 'ixi', 'ixx', 'oa<', 'oax', 'ox<', 'oxa', 'oxu', 'oxx', 'ua<', 'uax', 'uux', 'ux<', 'uxa', 'uxu', 'uxx', 'xI<', 'xII', 'xIa', 'xIx', 'xO<', 'xOx', 'xU<', 'xUU', 'xUe', 'xUx', 'xa<', 'xaI', 'xaa', 'xax', 'xe<', 'xee', 'xei', 'xex', 'xi<', 'xie', 'xii', 'xix', 'xo<', 'xoa', 'xox', 'xu<', 'xua', 'xuu', 'xux', 'xx<', 'xxI', 'xxO', 'xxU', 'xxa', 'xxe', 'xxi', 'xxo', 'xxu', 'xxx'}, {(): {{}}, ('<',): {{}}, ('>',): {{}}, ('I',): {{}}, ('O',): {{}}, ('U',): {{}}, ('a',): {{}}, ('e',): {{}}, ('i',): {{}}, ('o',): {{}}, ('u',): {{}}, ('x',): {{}}, ('>', '<'): {{}}, ('>', 'I'): {{}}, ('>', 'O'): {{}}, ('>', 'U'): {{}}, ('>', 'a'): {{}}, ('>', 'e'): {{}}, ('>', 'i'): {{}}, ('>', 'o'): {{}}, ('>', 'u'): {{}}, ('>', 'x'): {{}}, ('I', '<'): {{}}, ('I', 'I'): {{}}, ('I', 'a'): {{}}, ('I', 'x'): {{}}, ('O', '<'): {{}}, ('O', 'U'): {{'x'}}, ('O', 'e'): {{'x'}}, ('O', 'i'): {{'e', 'x'}}, ('O', 'x'): {{}}, ('U', '<'): {{}}, ('U', 'U'): {{}}, ('U', 'e'): {{}}, ('U', 'i'): {{'e', 'x'}}, ('U', 'x'): {{}}, ('a', '<'): {{}}, ('a', 'I'): {{}}, ('a', 'a'): {{}}, ('a', 'x'): {{}}, ('e', '<'): {{}}, ('e', 'e'): {{}}, ('e', 'i'): {{}}, ('e', 'x'): {{}}, ('i', '<'): {{}}, ('i', 'e'): {{}}, ('i', 'i'): {{}}, ('i', 'x'): {{}}, ('o', '<'): {{}}, ('o', 'I'): {{'a', 'x'}}, ('o', 'a'): {{}}, ('o', 'u'): {{'x'}}, ('o', 'x'): {{}}, ('u', '<'): {{}}, ('u', 'I'): {{'a', 'x'}}, ('u', 'a'): {{}}, ('u', 'u'): {{}}, ('u', 'x'): {{}}, ('x', '<'): {{}}, ('x', 'I'): {{}}, ('x', 'O'): {{}}, ('x', 'U'): {{}}, ('x', 'a'): {{}}, ('x', 'e'): {{}}, ('x', 'i'): {{}}, ('x', 'o'): {{}}, ('x', 'u'): {{}}, ('x', 'x'): {{}}})\n",
      "\n",
      "Vowel harmony and consonant harmony, no blockers, Artificial Grammar\n"
     ]
    },
    {
     "name": "stderr",
     "output_type": "stream",
     "text": [
      "Learning: 1001it [00:00, 2686.66it/s]\n"
     ]
    },
    {
     "name": "stdout",
     "output_type": "stream",
     "text": [
      "Percentage of harmonic words: 100%.\n",
      "set()\n",
      "--------------------------\n",
      "Generates such strings: ['', 'oo', 'ob', 'op', 'aa', 'ab', 'ap', 'bo', 'ba', 'bb', 'po', 'pa', 'pp', 'ooo', 'oob']\n",
      "--------------------------\n",
      "Size of the grammar: 108\n",
      "--------------------------\n",
      "Grammars: (2, {'', '<', '>', 'a', 'b', 'o', 'p', '><', '>a', '>b', '>o', '>p', 'a<', 'aa', 'ab', 'ap', 'b<', 'ba', 'bb', 'bo', 'o<', 'ob', 'oo', 'op', 'p<', 'pa', 'po', 'pp', '>aa', '>ab', '>ap', '>ba', '>bb', '>bo', '>ob', '>oo', '>op', '>pa', '>po', '>pp', 'aa<', 'aaa', 'aab', 'aap', 'ab<', 'aba', 'abb', 'ap<', 'apa', 'app', 'ba<', 'baa', 'bab', 'bb<', 'bba', 'bbb', 'bbo', 'bo<', 'bob', 'boo', 'ob<', 'obb', 'obo', 'oo<', 'oob', 'ooo', 'oop', 'op<', 'opo', 'opp', 'pa<', 'paa', 'pap', 'po<', 'poo', 'pop', 'pp<', 'ppa', 'ppo', 'ppp'}, {(): {{}}, ('<',): {{}}, ('>',): {{}}, ('a',): {{}}, ('b',): {{}}, ('o',): {{}}, ('p',): {{}}, ('>', '<'): {{}}, ('>', 'a'): {{}}, ('>', 'b'): {{}}, ('>', 'o'): {{}}, ('>', 'p'): {{}}, ('a', '<'): {{}}, ('a', 'a'): {{}}, ('a', 'b'): {{}}, ('a', 'p'): {{}}, ('b', '<'): {{}}, ('b', 'a'): {{}}, ('b', 'b'): {{}}, ('b', 'o'): {{}}, ('o', '<'): {{}}, ('o', 'b'): {{}}, ('o', 'o'): {{}}, ('o', 'p'): {{}}, ('p', '<'): {{}}, ('p', 'a'): {{}}, ('p', 'o'): {{}}, ('p', 'p'): {{}}})\n",
      "\n",
      "Vowel harmony and consonant harmony with blockers, Artificial Grammar\n"
     ]
    },
    {
     "name": "stderr",
     "output_type": "stream",
     "text": [
      "Learning: 5001it [00:02, 2126.62it/s]\n"
     ]
    },
    {
     "name": "stdout",
     "output_type": "stream",
     "text": [
      "Percentage of harmonic words: 100%.\n",
      "set()\n",
      "--------------------------\n",
      "Generates such strings: ['', 'oo', 'ot', 'ob', 'op', 'aa', 'at', 'ab', 'ap', 'to', 'ta', 'tt', 'tp', 'bo', 'ba']\n",
      "--------------------------\n",
      "Size of the grammar: 183\n",
      "--------------------------\n",
      "Grammars: (2, {'', '<', '>', 'a', 'b', 'o', 'p', 't', '><', '>a', '>b', '>o', '>p', '>t', 'a<', 'aa', 'ab', 'ap', 'at', 'b<', 'ba', 'bb', 'bo', 'bt', 'o<', 'ob', 'oo', 'op', 'ot', 'p<', 'pa', 'po', 'pp', 'pt', 't<', 'ta', 'to', 'tp', 'tt', '>aa', '>ab', '>ap', '>at', '>ba', '>bb', '>bo', '>bt', '>ob', '>oo', '>op', '>ot', '>pa', '>po', '>pp', '>pt', '>ta', '>to', '>tp', '>tt', 'aa<', 'aab', 'aap', 'aat', 'ab<', 'aba', 'abb', 'abt', 'ap<', 'apa', 'app', 'apt', 'at<', 'ata', 'atp', 'att', 'ba<', 'baa', 'bab', 'bat', 'bb<', 'bba', 'bbo', 'bbt', 'bo<', 'bob', 'boo', 'bot', 'bt<', 'bta', 'bto', 'btp', 'btt', 'ob<', 'obb', 'obo', 'obt', 'oo<', 'oob', 'oop', 'oot', 'op<', 'opo', 'opp', 'opt', 'ot<', 'oto', 'otp', 'ott', 'pa<', 'paa', 'pap', 'pat', 'po<', 'poo', 'pop', 'pot', 'pp<', 'ppa', 'ppo', 'ppt', 'pt<', 'pta', 'pto', 'ptp', 'ptt', 'ta<', 'taa', 'tap', 'tat', 'to<', 'too', 'top', 'tot', 'tp<', 'tpa', 'tpo', 'tpp', 'tpt', 'tt<', 'tta', 'tto', 'ttp', 'ttt'}, {(): {{}}, ('<',): {{}}, ('>',): {{}}, ('a',): {{}}, ('b',): {{}}, ('o',): {{}}, ('p',): {{}}, ('t',): {{}}, ('>', '<'): {{}}, ('>', 'a'): {{}}, ('>', 'b'): {{}}, ('>', 'o'): {{}}, ('>', 'p'): {{}}, ('>', 't'): {{}}, ('a', '<'): {{}}, ('a', 'a'): {{}}, ('a', 'b'): {{}}, ('a', 'p'): {{}}, ('a', 't'): {{}}, ('b', '<'): {{}}, ('b', 'a'): {{}}, ('b', 'b'): {{}}, ('b', 'o'): {{}}, ('b', 'p'): {{'t'}}, ('b', 't'): {{}}, ('o', '<'): {{}}, ('o', 'b'): {{}}, ('o', 'o'): {{}}, ('o', 'p'): {{}}, ('o', 't'): {{}}, ('p', '<'): {{}}, ('p', 'a'): {{}}, ('p', 'o'): {{}}, ('p', 'p'): {{}}, ('p', 't'): {{}}, ('t', '<'): {{}}, ('t', 'a'): {{}}, ('t', 'o'): {{}}, ('t', 'p'): {{}}, ('t', 't'): {{}}})\n",
      "\n",
      "Unbounded Tonal Plateauing, Artificial Grammar\n"
     ]
    },
    {
     "name": "stderr",
     "output_type": "stream",
     "text": [
      "Learning: 1001it [00:00, 5837.51it/s]\n"
     ]
    },
    {
     "name": "stdout",
     "output_type": "stream",
     "text": [
      "Percentage of well-formed tonal layers: 23%.\n",
      "--------------------------\n",
      "Generates such strings: ['', 'HH', 'HL', 'LH', 'LL', 'HHH', 'HHL', 'HLL', 'LHH', 'LHL', 'LLH', 'LLL', 'HHHH', 'HHHL', 'HHLL']\n",
      "--------------------------\n",
      "Size of the grammar: 43\n",
      "--------------------------\n",
      "Grammars: (2, {'', '<', '>', 'H', 'L', '><', '>H', '>L', 'H<', 'HH', 'HL', 'L<', 'LH', 'LL', '>HH', '>HL', '>LH', '>LL', 'HH<', 'HHH', 'HHL', 'HL<', 'HLL', 'LH<', 'LHH', 'LHL', 'LL<', 'LLH', 'LLL'}, {(): {{}}, ('<',): {{}}, ('>',): {{}}, ('H',): {{}}, ('L',): {{}}, ('>', '<'): {{}}, ('>', 'H'): {{}}, ('>', 'L'): {{}}, ('H', '<'): {{}}, ('H', 'H'): {{}}, ('H', 'L'): {{}}, ('L', '<'): {{}}, ('L', 'H'): {{}}, ('L', 'L'): {{}}})\n",
      "\n",
      "First-last harmony, Artificial Grammar\n"
     ]
    },
    {
     "name": "stderr",
     "output_type": "stream",
     "text": [
      "Learning: 1001it [00:00, 2602.36it/s]\n"
     ]
    },
    {
     "name": "stdout",
     "output_type": "stream",
     "text": [
      "Percentage of first-last harmonic words: 49%.\n",
      "--------------------------\n",
      "Generates such strings: ['', 'aa', 'ao', 'oa', 'oo', 'aaa', 'aao', 'axa', 'axo', 'aoa', 'aoo', 'oaa', 'oao', 'oxa', 'oxo']\n",
      "--------------------------\n",
      "Size of the grammar: 83\n",
      "--------------------------\n",
      "Grammars: (2, {'', '<', '>', 'a', 'o', 'x', '><', '>a', '>o', 'a<', 'aa', 'ao', 'ax', 'o<', 'oa', 'oo', 'ox', 'xa', 'xo', 'xx', '>aa', '>ao', '>ax', '>oa', '>oo', '>ox', 'aa<', 'aaa', 'aao', 'aax', 'ao<', 'aoa', 'aoo', 'aox', 'axa', 'axo', 'axx', 'oa<', 'oaa', 'oao', 'oax', 'oo<', 'ooa', 'ooo', 'oox', 'oxa', 'oxo', 'oxx', 'xa<', 'xaa', 'xao', 'xax', 'xo<', 'xoa', 'xoo', 'xox', 'xxa', 'xxo', 'xxx'}, {(): {{}}, ('<',): {{}}, ('>',): {{}}, ('a',): {{}}, ('o',): {{}}, ('x',): {{}}, ('>', '<'): {{}}, ('>', 'a'): {{}}, ('>', 'o'): {{}}, ('>', 'x'): {{'o'}, {'a'}}, ('a', '<'): {{}}, ('a', 'a'): {{}}, ('a', 'o'): {{}}, ('a', 'x'): {{}}, ('o', '<'): {{}}, ('o', 'a'): {{}}, ('o', 'o'): {{}}, ('o', 'x'): {{}}, ('x', '<'): {{'o'}, {'a'}}, ('x', 'a'): {{}}, ('x', 'o'): {{}}, ('x', 'x'): {{}}})\n",
      "\n",
      "Two locally-driven long-distance assimilations (ITSL restrictions), Artificial Grammar\n"
     ]
    },
    {
     "name": "stderr",
     "output_type": "stream",
     "text": [
      "Learning: 997it [00:00, 1610.59it/s]\n"
     ]
    },
    {
     "name": "stdout",
     "output_type": "stream",
     "text": [
      "Percentage of harmonic words: 100%.\n",
      "set()\n",
      "--------------------------\n",
      "Generates such strings: ['', 'aa', 'ax', 'ab', 'ao', 'ap', 'ay', 'ad', 'ae', 'xa', 'xx', 'xb', 'xo', 'xp', 'xy']\n",
      "--------------------------\n",
      "Size of the grammar: 804\n",
      "--------------------------\n",
      "Grammars: (2, {'', '<', '>', 'a', 'b', 'd', 'e', 'o', 'p', 'x', 'y', '><', '>a', '>b', '>d', '>e', '>o', '>p', '>x', '>y', 'a<', 'aa', 'ab', 'ad', 'ae', 'ao', 'ap', 'ax', 'ay', 'b<', 'ba', 'bb', 'bd', 'be', 'bo', 'bp', 'bx', 'by', 'd<', 'da', 'db', 'dd', 'de', 'do', 'dp', 'dx', 'dy', 'e<', 'ea', 'eb', 'ed', 'ee', 'eo', 'ep', 'ex', 'ey', 'o<', 'oa', 'ob', 'od', 'oe', 'oo', 'op', 'ox', 'oy', 'p<', 'pa', 'pb', 'pd', 'pe', 'po', 'pp', 'px', 'py', 'x<', 'xa', 'xb', 'xd', 'xe', 'xo', 'xp', 'xx', 'xy', 'y<', 'ya', 'yb', 'yd', 'ye', 'yo', 'yp', 'yx', 'yy', '>aa', '>ab', '>ad', '>ae', '>ao', '>ap', '>ax', '>ay', '>ba', '>bb', '>bd', '>be', '>bo', '>bp', '>bx', '>by', '>da', '>db', '>dd', '>de', '>do', '>dp', '>dx', '>dy', '>ea', '>eb', '>ed', '>ee', '>eo', '>ep', '>ex', '>ey', '>oa', '>ob', '>od', '>oe', '>oo', '>op', '>ox', '>oy', '>pa', '>pb', '>pd', '>pe', '>po', '>pp', '>px', '>py', '>xa', '>xb', '>xd', '>xe', '>xo', '>xp', '>xx', '>xy', '>ya', '>yb', '>yd', '>ye', '>yo', '>yp', '>yx', '>yy', 'aa<', 'aaa', 'aab', 'aad', 'aao', 'aap', 'aax', 'aay', 'ab<', 'aba', 'abb', 'abd', 'abe', 'abo', 'abp', 'abx', 'aby', 'ad<', 'ada', 'adb', 'add', 'ade', 'ado', 'adp', 'adx', 'ady', 'ae<', 'aeb', 'aed', 'aeo', 'aep', 'aex', 'aey', 'ao<', 'aoa', 'aob', 'aod', 'aoe', 'aoo', 'aop', 'aox', 'aoy', 'ap<', 'apa', 'apb', 'apd', 'ape', 'apo', 'app', 'apx', 'apy', 'ax<', 'axa', 'axb', 'axd', 'axe', 'axp', 'axy', 'ay<', 'ayb', 'ayd', 'aye', 'ayo', 'ayp', 'ayx', 'ayy', 'ba<', 'baa', 'bab', 'bad', 'bae', 'bao', 'bap', 'bax', 'bay', 'bb<', 'bba', 'bbb', 'bbd', 'bbe', 'bbo', 'bbp', 'bbx', 'bby', 'bd<', 'bda', 'bdb', 'bdd', 'bde', 'bdo', 'bdp', 'bdx', 'bdy', 'be<', 'bea', 'beb', 'bed', 'bee', 'beo', 'bep', 'bex', 'bey', 'bo<', 'boa', 'bob', 'bod', 'boe', 'boo', 'bop', 'box', 'boy', 'bp<', 'bpa', 'bpb', 'bpd', 'bpe', 'bpo', 'bpp', 'bpx', 'bpy', 'bx<', 'bxa', 'bxb', 'bxd', 'bxe', 'bxo', 'bxp', 'bxx', 'bxy', 'by<', 'bya', 'byb', 'bye', 'byo', 'byp', 'byx', 'byy', 'da<', 'daa', 'dab', 'dad', 'dae', 'dao', 'dap', 'dax', 'day', 'db<', 'dba', 'dbb', 'dbd', 'dbe', 'dbo', 'dbp', 'dbx', 'dby', 'dd<', 'dda', 'ddb', 'ddd', 'dde', 'ddo', 'ddp', 'ddx', 'ddy', 'de<', 'dea', 'deb', 'ded', 'dee', 'deo', 'dep', 'dex', 'dey', 'do<', 'doa', 'dob', 'dod', 'doe', 'doo', 'dop', 'dox', 'doy', 'dp<', 'dpa', 'dpb', 'dpd', 'dpe', 'dpo', 'dpp', 'dpx', 'dpy', 'dx<', 'dxa', 'dxb', 'dxd', 'dxe', 'dxo', 'dxp', 'dxx', 'dxy', 'dy<', 'dya', 'dyb', 'dyd', 'dye', 'dyo', 'dyp', 'dyx', 'dyy', 'ea<', 'eab', 'ead', 'eae', 'eao', 'eap', 'eax', 'eay', 'eb<', 'eba', 'ebb', 'ebd', 'ebe', 'ebo', 'ebp', 'ebx', 'eby', 'ed<', 'eda', 'edb', 'edd', 'ede', 'edo', 'edp', 'edx', 'edy', 'ee<', 'eea', 'eeb', 'eed', 'eee', 'eeo', 'eep', 'eex', 'eey', 'eo<', 'eoa', 'eob', 'eod', 'eoe', 'eoo', 'eop', 'eox', 'eoy', 'ep<', 'epa', 'epb', 'epd', 'epe', 'epo', 'epp', 'epx', 'epy', 'ex<', 'exa', 'exb', 'exd', 'exo', 'exp', 'exx', 'exy', 'ey<', 'eya', 'eyb', 'eyd', 'eye', 'eyo', 'eyp', 'eyx', 'eyy', 'oa<', 'oaa', 'oab', 'oad', 'oao', 'oap', 'oax', 'oay', 'ob<', 'oba', 'obb', 'obd', 'obe', 'obo', 'obp', 'obx', 'oby', 'od<', 'oda', 'odb', 'odd', 'ode', 'odo', 'odp', 'odx', 'ody', 'oe<', 'oea', 'oeb', 'oed', 'oee', 'oeo', 'oep', 'oex', 'oey', 'oo<', 'ooa', 'oob', 'ood', 'ooe', 'ooo', 'oop', 'oox', 'ooy', 'op<', 'opa', 'opb', 'opd', 'ope', 'opo', 'opp', 'opx', 'opy', 'ox<', 'oxa', 'oxb', 'oxd', 'oxo', 'oxp', 'oxy', 'oy<', 'oya', 'oyb', 'oyd', 'oye', 'oyo', 'oyp', 'oyx', 'oyy', 'pa<', 'paa', 'pab', 'pad', 'pae', 'pao', 'pap', 'pax', 'pay', 'pb<', 'pba', 'pbb', 'pbd', 'pbe', 'pbo', 'pbp', 'pbx', 'pby', 'pd<', 'pda', 'pdb', 'pdd', 'pde', 'pdo', 'pdp', 'pdx', 'pdy', 'pe<', 'pea', 'peb', 'ped', 'pee', 'peo', 'pep', 'pex', 'pey', 'po<', 'poa', 'pob', 'pod', 'poe', 'poo', 'pop', 'pox', 'poy', 'pp<', 'ppa', 'ppb', 'ppd', 'ppe', 'ppo', 'ppp', 'ppx', 'ppy', 'px<', 'pxa', 'pxb', 'pxd', 'pxe', 'pxo', 'pxp', 'pxx', 'pxy', 'py<', 'pya', 'pyb', 'pyd', 'pye', 'pyo', 'pyp', 'pyx', 'pyy', 'xa<', 'xab', 'xad', 'xae', 'xap', 'xay', 'xb<', 'xba', 'xbb', 'xbd', 'xbe', 'xbo', 'xbp', 'xbx', 'xby', 'xd<', 'xda', 'xdb', 'xdd', 'xde', 'xdo', 'xdp', 'xdx', 'xdy', 'xe<', 'xeb', 'xed', 'xee', 'xep', 'xey', 'xo<', 'xoa', 'xob', 'xod', 'xoe', 'xoo', 'xop', 'xox', 'xoy', 'xp<', 'xpa', 'xpb', 'xpd', 'xpe', 'xpo', 'xpp', 'xpx', 'xpy', 'xx<', 'xxa', 'xxb', 'xxd', 'xxe', 'xxo', 'xxp', 'xxx', 'xxy', 'xy<', 'xyb', 'xyd', 'xye', 'xyo', 'xyp', 'xyx', 'xyy', 'ya<', 'yaa', 'yab', 'yad', 'yae', 'yao', 'yap', 'yax', 'yay', 'yb<', 'yba', 'ybb', 'ybd', 'ybe', 'ybo', 'ybp', 'ybx', 'yby', 'yd<', 'yda', 'ydb', 'ydd', 'yde', 'ydo', 'ydx', 'ydy', 'ye<', 'yea', 'yeb', 'yed', 'yee', 'yeo', 'yep', 'yex', 'yey', 'yo<', 'yoa', 'yob', 'yod', 'yoe', 'yoo', 'yop', 'yox', 'yoy', 'yp<', 'ypa', 'ypb', 'ypd', 'ype', 'ypo', 'ypp', 'ypx', 'ypy', 'yx<', 'yxa', 'yxb', 'yxd', 'yxe', 'yxo', 'yxp', 'yxx', 'yxy', 'yy<', 'yya', 'yyb', 'yyd', 'yye', 'yyo', 'yyp', 'yyx', 'yyy'}, {(): {{}}, ('<',): {{}}, ('>',): {{}}, ('a',): {{}}, ('b',): {{}}, ('d',): {{}}, ('e',): {{}}, ('o',): {{}}, ('p',): {{}}, ('x',): {{}}, ('y',): {{}}, ('>', '<'): {{}}, ('>', 'a'): {{}}, ('>', 'b'): {{}}, ('>', 'd'): {{}}, ('>', 'e'): {{}}, ('>', 'o'): {{}}, ('>', 'p'): {{}}, ('>', 'x'): {{}}, ('>', 'y'): {{}}, ('a', '<'): {{}}, ('a', 'a'): {{}}, ('a', 'b'): {{}}, ('a', 'd'): {{}}, ('a', 'e'): {{}}, ('a', 'o'): {{}}, ('a', 'p'): {{}}, ('a', 'x'): {{}}, ('a', 'y'): {{}}, ('b', '<'): {{}}, ('b', 'a'): {{}}, ('b', 'b'): {{}}, ('b', 'd'): {{}}, ('b', 'e'): {{}}, ('b', 'o'): {{}}, ('b', 'p'): {{}}, ('b', 'x'): {{}}, ('b', 'y'): {{}}, ('d', '<'): {{}}, ('d', 'a'): {{}}, ('d', 'b'): {{}}, ('d', 'd'): {{}}, ('d', 'e'): {{}}, ('d', 'o'): {{}}, ('d', 'p'): {{}}, ('d', 'x'): {{}}, ('d', 'y'): {{}}, ('e', '<'): {{}}, ('e', 'a'): {{}}, ('e', 'b'): {{}}, ('e', 'd'): {{}}, ('e', 'e'): {{}}, ('e', 'o'): {{}}, ('e', 'p'): {{}}, ('e', 'x'): {{}}, ('e', 'y'): {{}}, ('o', '<'): {{}}, ('o', 'a'): {{}}, ('o', 'b'): {{}}, ('o', 'd'): {{}}, ('o', 'e'): {{}}, ('o', 'o'): {{}}, ('o', 'p'): {{}}, ('o', 'x'): {{}}, ('o', 'y'): {{}}, ('p', '<'): {{}}, ('p', 'a'): {{}}, ('p', 'b'): {{}}, ('p', 'd'): {{}}, ('p', 'e'): {{}}, ('p', 'o'): {{}}, ('p', 'p'): {{}}, ('p', 'x'): {{}}, ('p', 'y'): {{}}, ('x', '<'): {{}}, ('x', 'a'): {{}}, ('x', 'b'): {{}}, ('x', 'd'): {{}}, ('x', 'e'): {{}}, ('x', 'o'): {{}}, ('x', 'p'): {{}}, ('x', 'x'): {{}}, ('x', 'y'): {{}}, ('y', '<'): {{}}, ('y', 'a'): {{}}, ('y', 'b'): {{}}, ('y', 'd'): {{}}, ('y', 'e'): {{}}, ('y', 'o'): {{}}, ('y', 'p'): {{}}, ('y', 'x'): {{}}, ('y', 'y'): {{}}})\n",
      "\n"
     ]
    }
   ],
   "source": [
    "for experiment in experiments:\n",
    "    print(experiment['description'])\n",
    "    run_experiment(*tsl_args, *experiment['args'])\n",
    "    print()"
   ]
  },
  {
   "cell_type": "markdown",
   "metadata": {},
   "source": [
    "#### ITSL experiments"
   ]
  },
  {
   "cell_type": "code",
   "execution_count": 15,
   "metadata": {},
   "outputs": [
    {
     "name": "stdout",
     "output_type": "stream",
     "text": [
      "Word-final devoicing, Artificial Grammar\n"
     ]
    },
    {
     "name": "stderr",
     "output_type": "stream",
     "text": [
      "Learning: 1001it [00:04, 232.70it/s]\n"
     ]
    },
    {
     "name": "stdout",
     "output_type": "stream",
     "text": [
      "Percentage of well-formed words: 100%.\n",
      "--------------------------\n",
      "Generates such strings: ['', 'aapa', 'aapp', 'aaba', 'apaa', 'abaa', 'ppbp', 'pbpp', 'pbbp', 'aaapa', 'aaapp', 'aaaba', 'aapaa', 'aapap', 'aappa']\n",
      "--------------------------\n",
      "Size of the grammar: 927\n",
      "--------------------------\n",
      "Grammars: ((2, 2), {(), ('<<',), ('><',), ('>>',), ('>a',), ('>b',), ('>p',), ('a<',), ('aa',), ('ab',), ('ap',), ('ba',), ('bb',), ('bp',), ('p<',), ('pa',), ('pb',), ('pp',), ('<<', '<<'), ('><', '<<'), ('>>', '><'), ('>>', '>>'), ('>>', '>a'), ('>>', '>b'), ('>>', '>p'), ('>a', 'aa'), ('>a', 'ab'), ('>a', 'ap'), ('>b', 'ba'), ('>b', 'bb'), ('>b', 'bp'), ('>p', 'pa'), ('>p', 'pb'), ('>p', 'pp'), ('a<', '<<'), ('aa', 'a<'), ('aa', 'aa'), ('aa', 'ab'), ('aa', 'ap'), ('ab', 'ba'), ('ab', 'bb'), ('ab', 'bp'), ('ap', 'p<'), ('ap', 'pa'), ('ap', 'pb'), ('ap', 'pp'), ('ba', 'a<'), ('ba', 'aa'), ('ba', 'ab'), ('ba', 'ap'), ('bb', 'ba'), ('bb', 'bb'), ('bb', 'bp'), ('bp', 'p<'), ('bp', 'pa'), ('bp', 'pb'), ('bp', 'pp'), ('p<', '<<'), ('pa', 'a<'), ('pa', 'aa'), ('pa', 'ab'), ('pa', 'ap'), ('pb', 'ba'), ('pb', 'bb'), ('pb', 'bp'), ('pp', 'p<'), ('pp', 'pa'), ('pp', 'pb'), ('pp', 'pp'), ('><', '<<', '<<'), ('>>', '><', '<<'), ('>>', '>>', '><'), ('>>', '>>', '>a'), ('>>', '>>', '>b'), ('>>', '>>', '>p'), ('>>', '>a', 'aa'), ('>>', '>a', 'ab'), ('>>', '>a', 'ap'), ('>>', '>b', 'ba'), ('>>', '>b', 'bb'), ('>>', '>b', 'bp'), ('>>', '>p', 'pa'), ('>>', '>p', 'pb'), ('>>', '>p', 'pp'), ('>a', 'aa', 'aa'), ('>a', 'aa', 'ab'), ('>a', 'aa', 'ap'), ('>a', 'ab', 'ba'), ('>a', 'ab', 'bb'), ('>a', 'ab', 'bp'), ('>a', 'ap', 'pa'), ('>a', 'ap', 'pb'), ('>a', 'ap', 'pp'), ('>b', 'ba', 'aa'), ('>b', 'ba', 'ab'), ('>b', 'ba', 'ap'), ('>b', 'bb', 'ba'), ('>b', 'bb', 'bb'), ('>b', 'bb', 'bp'), ('>b', 'bp', 'pa'), ('>b', 'bp', 'pb'), ('>b', 'bp', 'pp'), ('>p', 'pa', 'aa'), ('>p', 'pa', 'ab'), ('>p', 'pa', 'ap'), ('>p', 'pb', 'ba'), ('>p', 'pb', 'bb'), ('>p', 'pb', 'bp'), ('>p', 'pp', 'pa'), ('>p', 'pp', 'pb'), ('>p', 'pp', 'pp'), ('a<', '<<', '<<'), ('aa', 'a<', '<<'), ('aa', 'aa', 'a<'), ('aa', 'aa', 'aa'), ('aa', 'aa', 'ab'), ('aa', 'aa', 'ap'), ('aa', 'ab', 'ba'), ('aa', 'ab', 'bb'), ('aa', 'ab', 'bp'), ('aa', 'ap', 'p<'), ('aa', 'ap', 'pa'), ('aa', 'ap', 'pb'), ('aa', 'ap', 'pp'), ('ab', 'ba', 'a<'), ('ab', 'ba', 'aa'), ('ab', 'ba', 'ab'), ('ab', 'ba', 'ap'), ('ab', 'bb', 'ba'), ('ab', 'bb', 'bb'), ('ab', 'bb', 'bp'), ('ab', 'bp', 'p<'), ('ab', 'bp', 'pa'), ('ab', 'bp', 'pb'), ('ab', 'bp', 'pp'), ('ap', 'p<', '<<'), ('ap', 'pa', 'a<'), ('ap', 'pa', 'aa'), ('ap', 'pa', 'ab'), ('ap', 'pa', 'ap'), ('ap', 'pb', 'ba'), ('ap', 'pb', 'bb'), ('ap', 'pb', 'bp'), ('ap', 'pp', 'p<'), ('ap', 'pp', 'pa'), ('ap', 'pp', 'pb'), ('ap', 'pp', 'pp'), ('ba', 'a<', '<<'), ('ba', 'aa', 'a<'), ('ba', 'aa', 'aa'), ('ba', 'aa', 'ab'), ('ba', 'aa', 'ap'), ('ba', 'ab', 'ba'), ('ba', 'ab', 'bb'), ('ba', 'ab', 'bp'), ('ba', 'ap', 'p<'), ('ba', 'ap', 'pa'), ('ba', 'ap', 'pb'), ('ba', 'ap', 'pp'), ('bb', 'ba', 'a<'), ('bb', 'ba', 'aa'), ('bb', 'ba', 'ab'), ('bb', 'ba', 'ap'), ('bb', 'bb', 'ba'), ('bb', 'bb', 'bb'), ('bb', 'bb', 'bp'), ('bb', 'bp', 'p<'), ('bb', 'bp', 'pa'), ('bb', 'bp', 'pb'), ('bb', 'bp', 'pp'), ('bp', 'p<', '<<'), ('bp', 'pa', 'a<'), ('bp', 'pa', 'aa'), ('bp', 'pa', 'ab'), ('bp', 'pa', 'ap'), ('bp', 'pb', 'ba'), ('bp', 'pb', 'bb'), ('bp', 'pb', 'bp'), ('bp', 'pp', 'p<'), ('bp', 'pp', 'pa'), ('bp', 'pp', 'pb'), ('bp', 'pp', 'pp'), ('p<', '<<', '<<'), ('pa', 'a<', '<<'), ('pa', 'aa', 'a<'), ('pa', 'aa', 'aa'), ('pa', 'aa', 'ab'), ('pa', 'aa', 'ap'), ('pa', 'ab', 'ba'), ('pa', 'ab', 'bb'), ('pa', 'ab', 'bp'), ('pa', 'ap', 'p<'), ('pa', 'ap', 'pa'), ('pa', 'ap', 'pb'), ('pa', 'ap', 'pp'), ('pb', 'ba', 'a<'), ('pb', 'ba', 'aa'), ('pb', 'ba', 'ab'), ('pb', 'ba', 'ap'), ('pb', 'bb', 'ba'), ('pb', 'bb', 'bb'), ('pb', 'bb', 'bp'), ('pb', 'bp', 'p<'), ('pb', 'bp', 'pa'), ('pb', 'bp', 'pb'), ('pb', 'bp', 'pp'), ('pp', 'p<', '<<'), ('pp', 'pa', 'a<'), ('pp', 'pa', 'aa'), ('pp', 'pa', 'ab'), ('pp', 'pa', 'ap'), ('pp', 'pb', 'ba'), ('pp', 'pb', 'bb'), ('pp', 'pb', 'bp'), ('pp', 'pp', 'p<'), ('pp', 'pp', 'pa'), ('pp', 'pp', 'pb'), ('pp', 'pp', 'pp')}, {(): {{}}, ('<<',): {{}}, ('><',): {{}}, ('>>',): {{}}, ('>a',): {{}}, ('>b',): {{}}, ('>p',): {{}}, ('a<',): {{}}, ('aa',): {{}}, ('ab',): {{}}, ('ap',): {{}}, ('ba',): {{}}, ('bb',): {{}}, ('bp',): {{}}, ('p<',): {{}}, ('pa',): {{}}, ('pb',): {{}}, ('pp',): {{}}, ('<<', '<<'): {{}}, ('><', '<<'): {{}}, ('>>', '<<'): {{'><'}, {'>b', 'a<', 'ab', 'ba', 'bb'}, {'>a', 'a<', 'aa', 'ab', 'ba'}, {'>b', 'bb', 'bp', 'p<', 'pb'}, {'>a', 'a<', 'aa', 'ap', 'pa'}, {'>a', 'aa', 'ap', 'p<', 'pa'}, {'>b', 'a<', 'aa', 'ab', 'ba'}, {'>p', 'bb', 'bp', 'p<', 'pb'}, {'>a', 'aa', 'ap', 'p<', 'pp'}, {'>p', 'bp', 'p<', 'pb', 'pp'}, {'>b', 'a<', 'aa', 'bb', 'bp', 'pa'}, {'>a', 'ab', 'ba', 'bb', 'bp', 'p<'}, {'>a', 'ab', 'ap', 'ba', 'p<', 'pa'}, {'>b', 'ab', 'ba', 'bp', 'p<', 'pp'}, {'>b', 'ab', 'ba', 'bp', 'p<', 'pb'}, {'>p', 'a<', 'ab', 'ba', 'bb', 'pb'}, {'>a', 'ab', 'bb', 'bp', 'p<', 'pb'}, {'>a', 'a<', 'ap', 'ba', 'bb', 'pb'}, {'>a', 'aa', 'ap', 'ba', 'p<', 'pb'}, {'>p', 'a<', 'ba', 'bb', 'bp', 'pb'}, {'>b', 'ap', 'ba', 'bb', 'p<', 'pb'}, {'>b', 'a<', 'ap', 'bp', 'pa', 'pp'}, {'>b', 'ap', 'ba', 'p<', 'pa', 'pp'}, {'>b', 'a<', 'ba', 'bb', 'bp', 'pb'}, {'>b', 'ap', 'bp', 'p<', 'pa', 'pp'}, {'>p', 'a<', 'bp', 'pa', 'pb', 'pp'}, {'>p', 'aa', 'ap', 'p<', 'pa', 'pp'}, {'>p', 'ap', 'ba', 'bp', 'p<', 'pb'}, {'>a', 'a<', 'aa', 'ab', 'bp', 'pa'}, {'>p', 'ab', 'ba', 'bp', 'p<', 'pa'}, {'>b', 'aa', 'ab', 'ap', 'ba', 'p<'}, {'>p', 'ab', 'bp', 'p<', 'pa', 'pp'}, {'>a', 'ab', 'bb', 'bp', 'p<', 'pa'}, {'>a', 'ap', 'bp', 'p<', 'pb', 'pp'}, {'>a', 'aa', 'ab', 'ap', 'ba', 'p<'}, {'>p', 'a<', 'aa', 'ap', 'pa', 'pp'}, {'>p', 'a<', 'ab', 'ap', 'ba', 'pa'}, {'>p', 'ab', 'bp', 'p<', 'pa', 'pb'}, {'>p', 'ap', 'ba', 'p<', 'pb', 'pp'}, {'>b', 'ab', 'ba', 'bb', 'bp', 'p<'}, {'>a', 'ab', 'ba', 'bp', 'p<', 'pb', 'pp'}, {'>a', 'ap', 'ba', 'bb', 'p<', 'pb', 'pp'}, {'>a', 'a<', 'ap', 'bb', 'bp', 'pa', 'pb'}, {'>p', 'aa', 'ab', 'ap', 'ba', 'p<', 'pb'}, {'>b', 'aa', 'ab', 'bp', 'p<', 'pa', 'pb'}, {'>b', 'aa', 'ab', 'ap', 'bp', 'p<', 'pa'}, {'>b', 'a<', 'aa', 'bp', 'pa', 'pb', 'pp'}, {'>b', 'a<', 'aa', 'ab', 'ap', 'bp', 'pa'}, {'>p', 'a<', 'ap', 'ba', 'bp', 'pa', 'pb'}, {'>p', 'a<', 'aa', 'ab', 'ba', 'pb', 'pp'}, {'>a', 'aa', 'ab', 'bp', 'p<', 'pb', 'pp'}, {'>b', 'a<', 'ab', 'bp', 'pa', 'pb', 'pp'}, {'>b', 'a<', 'aa', 'ap', 'ba', 'bb', 'pb'}, {'>b', 'ab', 'bb', 'bp', 'p<', 'pa', 'pp'}, {'>b', 'a<', 'ab', 'bb', 'bp', 'pa', 'pb'}, {'>p', 'a<', 'aa', 'ab', 'ap', 'bp', 'pa'}, {'>a', 'a<', 'aa', 'ap', 'ba', 'pb', 'pp'}, {'>a', 'a<', 'ab', 'ap', 'bp', 'pa', 'pp'}, {'>p', 'aa', 'ab', 'ap', 'bp', 'p<', 'pa'}, {'>b', 'ap', 'ba', 'bp', 'p<', 'pb', 'pp'}, {'>p', 'a<', 'aa', 'ap', 'ba', 'pa', 'pb'}, {'>a', 'a<', 'ap', 'bp', 'pa', 'pb', 'pp'}, {'>a', 'ab', 'ap', 'ba', 'bp', 'p<', 'pb'}, {'>b', 'aa', 'ab', 'bb', 'bp', 'p<', 'pa'}, {'>b', 'a<', 'aa', 'ab', 'bp', 'pa', 'pp'}, {'>p', 'ap', 'ba', 'bb', 'p<', 'pa', 'pb'}, {'>p', 'aa', 'ab', 'ba', 'bp', 'p<', 'pb'}, {'>p', 'a<', 'aa', 'ap', 'ba', 'bb', 'pb'}, {'>p', 'a<', 'aa', 'ab', 'ba', 'pa', 'pp'}, {'>p', 'a<', 'ap', 'ba', 'pa', 'pb', 'pp'}, {'>p', 'aa', 'ab', 'ap', 'ba', 'p<', 'pa'}, {'>b', 'a<', 'bb', 'bp', 'pa', 'pb', 'pp'}, {'>a', 'ab', 'ap', 'bp', 'p<', 'pa', 'pp'}, {'>a', 'ab', 'ap', 'bp', 'p<', 'pa', 'pb'}, {'>p', 'ab', 'ap', 'ba', 'bb', 'p<', 'pa'}, {'>b', 'ab', 'ap', 'ba', 'bp', 'p<', 'pa'}, {'>b', 'aa', 'ap', 'ba', 'bb', 'p<', 'pp'}, {'>p', 'aa', 'ap', 'bp', 'p<', 'pa', 'pb'}, {'>a', 'a<', 'ab', 'ba', 'bb', 'bp', 'pb'}, {'>b', 'aa', 'ap', 'ba', 'p<', 'pb', 'pp'}, {'>p', 'ab', 'ap', 'ba', 'p<', 'pa', 'pp'}, {'>a', 'a<', 'aa', 'ap', 'ba', 'bp', 'pb'}, {'>p', 'a<', 'ap', 'ba', 'bb', 'pb', 'pp'}, {'>a', 'a<', 'ab', 'ba', 'bp', 'pa', 'pb'}, {'>p', 'ab', 'ap', 'ba', 'p<', 'pa', 'pb'}, {'>b', 'a<', 'aa', 'ap', 'ba', 'pa', 'pp'}, {'>p', 'aa', 'ap', 'ba', 'p<', 'pa', 'pb'}, {'>b', 'aa', 'ab', 'bp', 'p<', 'pa', 'pp'}, {'>a', 'a<', 'ab', 'ap', 'ba', 'pa', 'pb', 'pp'}, {'>b', 'a<', 'aa', 'ap', 'ba', 'bp', 'pa', 'pb'}, {'>a', 'aa', 'ab', 'ba', 'bp', 'p<', 'pa', 'pp'}, {'>p', 'a<', 'aa', 'ab', 'ba', 'bp', 'pa', 'pb'}, {'>a', 'a<', 'ab', 'ap', 'ba', 'bb', 'pa', 'pp'}, {'>a', 'a<', 'ab', 'ap', 'ba', 'bb', 'bp', 'pa'}, {'>b', 'a<', 'ab', 'ap', 'ba', 'bp', 'pa', 'pb'}, {'>b', 'aa', 'ap', 'ba', 'bp', 'p<', 'pa', 'pb'}, {'>a', 'a<', 'ab', 'bb', 'bp', 'pa', 'pb', 'pp'}, {'>a', 'a<', 'ab', 'ba', 'bb', 'bp', 'pa', 'pp'}, {'>p', 'a<', 'aa', 'ab', 'ba', 'bb', 'bp', 'pa'}, {'>p', 'a<', 'ab', 'ap', 'bb', 'bp', 'pa', 'pp'}}, ('>>', '><'): {{}}, ('>>', '>>'): {{}}, ('>>', '>a'): {{}}, ('>>', '>b'): {{}}, ('>>', '>p'): {{}}, ('>>', 'a<'): {{'>b', 'ab', 'ba', 'bb'}, {'>a', 'aa', 'ap', 'pa'}, {'>b', 'aa', 'ab', 'ba'}, {'>a', 'aa', 'ab', 'ba'}, {'>a', 'ap', 'ba', 'bb', 'pb'}, {'>p', 'bp', 'pa', 'pb', 'pp'}, {'>b', 'ba', 'bb', 'bp', 'pb'}, {'>p', 'ab', 'ap', 'ba', 'pa'}, {'>b', 'ap', 'bp', 'pa', 'pp'}, {'>a', 'aa', 'ab', 'bp', 'pa'}, {'>p', 'ab', 'ba', 'bb', 'pb'}, {'>p', 'aa', 'ap', 'pa', 'pp'}, {'>b', 'aa', 'bb', 'bp', 'pa'}, {'>p', 'ba', 'bb', 'bp', 'pb'}, {'>p', 'aa', 'ab', 'ba', 'pa', 'pp'}, {'>b', 'ab', 'bb', 'bp', 'pa', 'pb'}, {'>b', 'aa', 'ab', 'ap', 'bp', 'pa'}, {'>a', 'aa', 'ap', 'ba', 'pb', 'pp'}, {'>b', 'ab', 'bp', 'pa', 'pb', 'pp'}, {'>a', 'ap', 'bb', 'bp', 'pa', 'pb'}, {'>a', 'ab', 'ap', 'bp', 'pa', 'pp'}, {'>b', 'bb', 'bp', 'pa', 'pb', 'pp'}, {'>p', 'aa', 'ap', 'ba', 'bb', 'pb'}, {'>b', 'aa', 'ap', 'ba', 'bb', 'pb'}, {'>b', 'aa', 'ab', 'bp', 'pa', 'pp'}, {'>a', 'ap', 'bp', 'pa', 'pb', 'pp'}, {'>p', 'aa', 'ab', 'ba', 'pb', 'pp'}, {'>p', 'ap', 'ba', 'bp', 'pa', 'pb'}, {'>p', 'ap', 'ba', 'pa', 'pb', 'pp'}, {'>a', 'ab', 'ba', 'bb', 'bp', 'pb'}, {'>b', 'aa', 'ap', 'ba', 'pa', 'pp'}, {'>p', 'aa', 'ab', 'ap', 'bp', 'pa'}, {'>p', 'ap', 'ba', 'bb', 'pb', 'pp'}, {'>p', 'aa', 'ap', 'ba', 'pa', 'pb'}, {'>a', 'aa', 'ap', 'ba', 'bp', 'pb'}, {'>b', 'aa', 'bp', 'pa', 'pb', 'pp'}, {'>a', 'ab', 'ba', 'bp', 'pa', 'pb'}, {'>b', 'aa', 'ap', 'ba', 'bp', 'pa', 'pb'}, {'>p', 'aa', 'ab', 'ba', 'bb', 'bp', 'pa'}, {'>a', 'ab', 'ap', 'ba', 'pa', 'pb', 'pp'}, {'>b', 'ab', 'ap', 'ba', 'bp', 'pa', 'pb'}, {'>p', 'aa', 'ab', 'ba', 'bp', 'pa', 'pb'}, {'>a', 'ab', 'ap', 'ba', 'bb', 'pa', 'pp'}, {'>a', 'ab', 'ap', 'ba', 'bb', 'bp', 'pa'}, {'>a', 'ab', 'ba', 'bb', 'bp', 'pa', 'pp'}, {'>p', 'ab', 'ap', 'bb', 'bp', 'pa', 'pp'}, {'>a', 'ab', 'bb', 'bp', 'pa', 'pb', 'pp'}}, ('>>', 'aa'): {{'>a'}, {'>p', 'pa'}, {'>b', 'ba'}, {'>b', 'bp', 'pa'}, {'>p', 'ba', 'pb'}}, ('>>', 'ab'): {{'>a'}, {'>p', 'pa'}, {'>b', 'ba'}, {'>b', 'bp', 'pa'}, {'>p', 'ba', 'pb'}}, ('>>', 'ap'): {{'>a'}, {'>p', 'pa'}, {'>b', 'ba'}, {'>b', 'bp', 'pa'}, {'>p', 'ba', 'pb'}}, ('>>', 'ba'): {{'>b'}, {'>p', 'pb'}, {'>a', 'ab'}, {'>p', 'ab', 'pa'}, {'>a', 'ap', 'pb'}}, ('>>', 'bb'): {{'>b'}, {'>p', 'pb'}, {'>a', 'ab'}, {'>p', 'ab', 'pa'}, {'>a', 'ap', 'pb'}}, ('>>', 'bp'): {{'>b'}, {'>p', 'pb'}, {'>a', 'ab'}, {'>p', 'ab', 'pa'}, {'>a', 'ap', 'pb'}}, ('>>', 'p<'): {{'>a', 'aa', 'ap', 'pa'}, {'>p', 'bp', 'pb', 'pp'}, {'>b', 'bb', 'bp', 'pb'}, {'>p', 'bb', 'bp', 'pb'}, {'>a', 'aa', 'ap', 'pp'}, {'>a', 'ab', 'bb', 'bp', 'pb'}, {'>a', 'ab', 'bb', 'bp', 'pa'}, {'>a', 'aa', 'ap', 'ba', 'pb'}, {'>p', 'ab', 'bp', 'pa', 'pp'}, {'>p', 'ap', 'ba', 'bp', 'pb'}, {'>b', 'ap', 'bp', 'pa', 'pp'}, {'>p', 'ab', 'bp', 'pa', 'pb'}, {'>b', 'ap', 'ba', 'bb', 'pb'}, {'>b', 'ab', 'ba', 'bb', 'bp'}, {'>b', 'ap', 'ba', 'pa', 'pp'}, {'>b', 'aa', 'ab', 'ap', 'ba'}, {'>a', 'aa', 'ab', 'ap', 'ba'}, {'>p', 'aa', 'ap', 'pa', 'pp'}, {'>a', 'ab', 'ba', 'bb', 'bp'}, {'>b', 'ab', 'ba', 'bp', 'pp'}, {'>a', 'ab', 'ap', 'ba', 'pa'}, {'>p', 'ap', 'ba', 'pb', 'pp'}, {'>p', 'ab', 'ba', 'bp', 'pa'}, {'>a', 'ap', 'bp', 'pb', 'pp'}, {'>b', 'ab', 'ba', 'bp', 'pb'}, {'>a', 'ab', 'ap', 'ba', 'bp', 'pb'}, {'>p', 'ab', 'ap', 'ba', 'pa', 'pb'}, {'>b', 'aa', 'ap', 'ba', 'pb', 'pp'}, {'>p', 'aa', 'ab', 'ap', 'ba', 'pb'}, {'>b', 'ab', 'ap', 'ba', 'bp', 'pa'}, {'>p', 'aa', 'ab', 'ap', 'ba', 'pa'}, {'>b', 'aa', 'ab', 'ap', 'bp', 'pa'}, {'>b', 'aa', 'ap', 'ba', 'bb', 'pp'}, {'>a', 'ab', 'ba', 'bp', 'pb', 'pp'}, {'>p', 'ap', 'ba', 'bb', 'pa', 'pb'}, {'>p', 'aa', 'ab', 'ba', 'bp', 'pb'}, {'>a', 'ab', 'ap', 'bp', 'pa', 'pp'}, {'>a', 'ap', 'ba', 'bb', 'pb', 'pp'}, {'>b', 'aa', 'ab', 'bb', 'bp', 'pa'}, {'>a', 'aa', 'ab', 'bp', 'pb', 'pp'}, {'>b', 'aa', 'ab', 'bp', 'pa', 'pp'}, {'>a', 'ab', 'ap', 'bp', 'pa', 'pb'}, {'>p', 'aa', 'ab', 'ap', 'bp', 'pa'}, {'>p', 'aa', 'ap', 'ba', 'pa', 'pb'}, {'>b', 'ap', 'ba', 'bp', 'pb', 'pp'}, {'>b', 'aa', 'ab', 'bp', 'pa', 'pb'}, {'>p', 'ab', 'ap', 'ba', 'bb', 'pa'}, {'>p', 'ab', 'ap', 'ba', 'pa', 'pp'}, {'>b', 'ab', 'bb', 'bp', 'pa', 'pp'}, {'>p', 'aa', 'ap', 'bp', 'pa', 'pb'}, {'>b', 'aa', 'ap', 'ba', 'bp', 'pa', 'pb'}, {'>a', 'aa', 'ab', 'ba', 'bp', 'pa', 'pp'}}, ('>>', 'pa'): {{'>p'}, {'>a', 'ap'}, {'>b', 'bp'}, {'>a', 'ab', 'bp'}, {'>b', 'ap', 'ba'}}, ('>>', 'pb'): {{'>p'}, {'>a', 'ap'}, {'>b', 'bp'}, {'>a', 'ab', 'bp'}, {'>b', 'ap', 'ba'}}, ('>>', 'pp'): {{'>p'}, {'>a', 'ap'}, {'>b', 'bp'}, {'>a', 'ab', 'bp'}, {'>b', 'ap', 'ba'}}, ('>a', '<<'): {{'a<', 'aa', 'ap', 'pa'}, {'a<', 'aa', 'ab', 'ba'}, {'aa', 'ap', 'p<', 'pp'}, {'aa', 'ap', 'p<', 'pa'}, {'ab', 'ap', 'ba', 'p<', 'pa'}, {'aa', 'ap', 'ba', 'p<', 'pb'}, {'aa', 'ab', 'ap', 'ba', 'p<'}, {'ap', 'bp', 'p<', 'pb', 'pp'}, {'ab', 'ba', 'bb', 'bp', 'p<'}, {'a<', 'aa', 'ab', 'bp', 'pa'}, {'a<', 'ap', 'ba', 'bb', 'pb'}, {'ab', 'bb', 'bp', 'p<', 'pb'}, {'ab', 'bb', 'bp', 'p<', 'pa'}, {'aa', 'ab', 'bp', 'p<', 'pb', 'pp'}, {'a<', 'aa', 'ap', 'ba', 'bp', 'pb'}, {'a<', 'ab', 'ap', 'bp', 'pa', 'pp'}, {'a<', 'ap', 'bp', 'pa', 'pb', 'pp'}, {'a<', 'ab', 'ba', 'bb', 'bp', 'pb'}, {'ab', 'ba', 'bp', 'p<', 'pb', 'pp'}, {'ab', 'ap', 'bp', 'p<', 'pa', 'pp'}, {'a<', 'aa', 'ap', 'ba', 'pb', 'pp'}, {'ap', 'ba', 'bb', 'p<', 'pb', 'pp'}, {'ab', 'ap', 'bp', 'p<', 'pa', 'pb'}, {'a<', 'ab', 'ba', 'bp', 'pa', 'pb'}, {'a<', 'ap', 'bb', 'bp', 'pa', 'pb'}, {'ab', 'ap', 'ba', 'bp', 'p<', 'pb'}, {'aa', 'ab', 'ba', 'bp', 'p<', 'pa', 'pp'}, {'a<', 'ab', 'ap', 'ba', 'bb', 'pa', 'pp'}, {'a<', 'ab', 'ap', 'ba', 'bb', 'bp', 'pa'}, {'a<', 'ab', 'bb', 'bp', 'pa', 'pb', 'pp'}, {'a<', 'ab', 'ba', 'bb', 'bp', 'pa', 'pp'}, {'a<', 'ab', 'ap', 'ba', 'pa', 'pb', 'pp'}}, ('>a', 'a<'): {{'aa', 'ap', 'pa'}, {'aa', 'ab', 'ba'}, {'ap', 'ba', 'bb', 'pb'}, {'aa', 'ab', 'bp', 'pa'}, {'ab', 'ap', 'bp', 'pa', 'pp'}, {'ap', 'bb', 'bp', 'pa', 'pb'}, {'aa', 'ap', 'ba', 'bp', 'pb'}, {'ab', 'ba', 'bp', 'pa', 'pb'}, {'ab', 'ba', 'bb', 'bp', 'pb'}, {'ap', 'bp', 'pa', 'pb', 'pp'}, {'aa', 'ap', 'ba', 'pb', 'pp'}, {'ab', 'ap', 'ba', 'bb', 'pa', 'pp'}, {'ab', 'ap', 'ba', 'bb', 'bp', 'pa'}, {'ab', 'ap', 'ba', 'pa', 'pb', 'pp'}, {'ab', 'ba', 'bb', 'bp', 'pa', 'pp'}, {'ab', 'bb', 'bp', 'pa', 'pb', 'pp'}}, ('>a', 'aa'): {{}}, ('>a', 'ab'): {{}}, ('>a', 'ap'): {{}}, ('>a', 'ba'): {{'ab'}, {'ap', 'pb'}}, ('>a', 'bb'): {{'ab'}, {'ap', 'pb'}}, ('>a', 'bp'): {{'ab'}, {'ap', 'pb'}}, ('>a', 'p<'): {{'aa', 'ap', 'pp'}, {'aa', 'ap', 'pa'}, {'ab', 'bb', 'bp', 'pb'}, {'ab', 'bb', 'bp', 'pa'}, {'ab', 'ap', 'ba', 'pa'}, {'aa', 'ab', 'ap', 'ba'}, {'ap', 'bp', 'pb', 'pp'}, {'ab', 'ba', 'bb', 'bp'}, {'aa', 'ap', 'ba', 'pb'}, {'ab', 'ap', 'bp', 'pa', 'pp'}, {'ab', 'ap', 'bp', 'pa', 'pb'}, {'ab', 'ap', 'ba', 'bp', 'pb'}, {'ab', 'ba', 'bp', 'pb', 'pp'}, {'aa', 'ab', 'bp', 'pb', 'pp'}, {'ap', 'ba', 'bb', 'pb', 'pp'}, {'aa', 'ab', 'ba', 'bp', 'pa', 'pp'}}, ('>a', 'pa'): {{'ap'}, {'ab', 'bp'}}, ('>a', 'pb'): {{'ap'}, {'ab', 'bp'}}, ('>a', 'pp'): {{'ap'}, {'ab', 'bp'}}, ('>b', '<<'): {{'a<', 'aa', 'ab', 'ba'}, {'bb', 'bp', 'p<', 'pb'}, {'a<', 'ab', 'ba', 'bb'}, {'ap', 'ba', 'bb', 'p<', 'pb'}, {'aa', 'ab', 'ap', 'ba', 'p<'}, {'ab', 'ba', 'bp', 'p<', 'pp'}, {'ap', 'ba', 'p<', 'pa', 'pp'}, {'a<', 'aa', 'bb', 'bp', 'pa'}, {'ab', 'ba', 'bp', 'p<', 'pb'}, {'ab', 'ba', 'bb', 'bp', 'p<'}, {'a<', 'ap', 'bp', 'pa', 'pp'}, {'a<', 'ba', 'bb', 'bp', 'pb'}, {'ap', 'bp', 'p<', 'pa', 'pp'}, {'a<', 'aa', 'ap', 'ba', 'pa', 'pp'}, {'ab', 'ap', 'ba', 'bp', 'p<', 'pa'}, {'a<', 'aa', 'ab', 'bp', 'pa', 'pp'}, {'aa', 'ab', 'ap', 'bp', 'p<', 'pa'}, {'aa', 'ap', 'ba', 'bb', 'p<', 'pp'}, {'a<', 'ab', 'bp', 'pa', 'pb', 'pp'}, {'a<', 'bb', 'bp', 'pa', 'pb', 'pp'}, {'a<', 'aa', 'ab', 'ap', 'bp', 'pa'}, {'aa', 'ab', 'bp', 'p<', 'pa', 'pp'}, {'a<', 'aa', 'bp', 'pa', 'pb', 'pp'}, {'aa', 'ab', 'bb', 'bp', 'p<', 'pa'}, {'aa', 'ab', 'bp', 'p<', 'pa', 'pb'}, {'ap', 'ba', 'bp', 'p<', 'pb', 'pp'}, {'a<', 'ab', 'bb', 'bp', 'pa', 'pb'}, {'aa', 'ap', 'ba', 'p<', 'pb', 'pp'}, {'ab', 'bb', 'bp', 'p<', 'pa', 'pp'}, {'a<', 'aa', 'ap', 'ba', 'bb', 'pb'}, {'a<', 'ab', 'ap', 'ba', 'bp', 'pa', 'pb'}, {'aa', 'ap', 'ba', 'bp', 'p<', 'pa', 'pb'}, {'a<', 'aa', 'ap', 'ba', 'bp', 'pa', 'pb'}}, ('>b', 'a<'): {{'aa', 'ab', 'ba'}, {'ab', 'ba', 'bb'}, {'aa', 'bb', 'bp', 'pa'}, {'ap', 'bp', 'pa', 'pp'}, {'ba', 'bb', 'bp', 'pb'}, {'aa', 'ap', 'ba', 'bb', 'pb'}, {'aa', 'ab', 'ap', 'bp', 'pa'}, {'ab', 'bp', 'pa', 'pb', 'pp'}, {'aa', 'ap', 'ba', 'pa', 'pp'}, {'bb', 'bp', 'pa', 'pb', 'pp'}, {'ab', 'bb', 'bp', 'pa', 'pb'}, {'aa', 'ab', 'bp', 'pa', 'pp'}, {'aa', 'bp', 'pa', 'pb', 'pp'}, {'aa', 'ap', 'ba', 'bp', 'pa', 'pb'}, {'ab', 'ap', 'ba', 'bp', 'pa', 'pb'}}, ('>b', 'aa'): {{'ba'}, {'bp', 'pa'}}, ('>b', 'ab'): {{'ba'}, {'bp', 'pa'}}, ('>b', 'ap'): {{'ba'}, {'bp', 'pa'}}, ('>b', 'ba'): {{}}, ('>b', 'bb'): {{}}, ('>b', 'bp'): {{}}, ('>b', 'p<'): {{'bb', 'bp', 'pb'}, {'aa', 'ab', 'ap', 'ba'}, {'ap', 'ba', 'pa', 'pp'}, {'ap', 'bp', 'pa', 'pp'}, {'ap', 'ba', 'bb', 'pb'}, {'ab', 'ba', 'bp', 'pp'}, {'ab', 'ba', 'bp', 'pb'}, {'ab', 'ba', 'bb', 'bp'}, {'aa', 'ab', 'ap', 'bp', 'pa'}, {'aa', 'ab', 'bp', 'pa', 'pb'}, {'ab', 'ap', 'ba', 'bp', 'pa'}, {'ap', 'ba', 'bp', 'pb', 'pp'}, {'aa', 'ab', 'bb', 'bp', 'pa'}, {'ab', 'bb', 'bp', 'pa', 'pp'}, {'aa', 'ap', 'ba', 'pb', 'pp'}, {'aa', 'ab', 'bp', 'pa', 'pp'}, {'aa', 'ap', 'ba', 'bb', 'pp'}, {'aa', 'ap', 'ba', 'bp', 'pa', 'pb'}}, ('>b', 'pa'): {{'bp'}, {'ap', 'ba'}}, ('>b', 'pb'): {{'bp'}, {'ap', 'ba'}}, ('>b', 'pp'): {{'bp'}, {'ap', 'ba'}}, ('>p', '<<'): {{'bp', 'p<', 'pb', 'pp'}, {'bb', 'bp', 'p<', 'pb'}, {'a<', 'bp', 'pa', 'pb', 'pp'}, {'aa', 'ap', 'p<', 'pa', 'pp'}, {'a<', 'aa', 'ap', 'pa', 'pp'}, {'ap', 'ba', 'bp', 'p<', 'pb'}, {'a<', 'ab', 'ap', 'ba', 'pa'}, {'a<', 'ab', 'ba', 'bb', 'pb'}, {'ab', 'bp', 'p<', 'pa', 'pb'}, {'ab', 'ba', 'bp', 'p<', 'pa'}, {'a<', 'ba', 'bb', 'bp', 'pb'}, {'ab', 'bp', 'p<', 'pa', 'pp'}, {'ap', 'ba', 'p<', 'pb', 'pp'}, {'aa', 'ab', 'ap', 'ba', 'p<', 'pa'}, {'ab', 'ap', 'ba', 'bb', 'p<', 'pa'}, {'aa', 'ab', 'ba', 'bp', 'p<', 'pb'}, {'a<', 'aa', 'ab', 'ba', 'pa', 'pp'}, {'aa', 'ab', 'ap', 'bp', 'p<', 'pa'}, {'ab', 'ap', 'ba', 'p<', 'pa', 'pp'}, {'a<', 'aa', 'ab', 'ap', 'bp', 'pa'}, {'a<', 'aa', 'ap', 'ba', 'pa', 'pb'}, {'a<', 'ap', 'ba', 'bb', 'pb', 'pp'}, {'a<', 'ap', 'ba', 'bp', 'pa', 'pb'}, {'ap', 'ba', 'bb', 'p<', 'pa', 'pb'}, {'ab', 'ap', 'ba', 'p<', 'pa', 'pb'}, {'a<', 'aa', 'ap', 'ba', 'bb', 'pb'}, {'a<', 'aa', 'ab', 'ba', 'pb', 'pp'}, {'aa', 'ap', 'bp', 'p<', 'pa', 'pb'}, {'aa', 'ap', 'ba', 'p<', 'pa', 'pb'}, {'a<', 'ap', 'ba', 'pa', 'pb', 'pp'}, {'aa', 'ab', 'ap', 'ba', 'p<', 'pb'}, {'a<', 'aa', 'ab', 'ba', 'bb', 'bp', 'pa'}, {'a<', 'aa', 'ab', 'ba', 'bp', 'pa', 'pb'}, {'a<', 'ab', 'ap', 'bb', 'bp', 'pa', 'pp'}}, ('>p', 'a<'): {{'bp', 'pa', 'pb', 'pp'}, {'ab', 'ap', 'ba', 'pa'}, {'aa', 'ap', 'pa', 'pp'}, {'ab', 'ba', 'bb', 'pb'}, {'ba', 'bb', 'bp', 'pb'}, {'aa', 'ap', 'ba', 'bb', 'pb'}, {'aa', 'ab', 'ap', 'bp', 'pa'}, {'aa', 'ap', 'ba', 'pa', 'pb'}, {'ap', 'ba', 'bp', 'pa', 'pb'}, {'aa', 'ab', 'ba', 'pa', 'pp'}, {'ap', 'ba', 'pa', 'pb', 'pp'}, {'ap', 'ba', 'bb', 'pb', 'pp'}, {'aa', 'ab', 'ba', 'pb', 'pp'}, {'aa', 'ab', 'ba', 'bp', 'pa', 'pb'}, {'aa', 'ab', 'ba', 'bb', 'bp', 'pa'}, {'ab', 'ap', 'bb', 'bp', 'pa', 'pp'}}, ('>p', 'aa'): {{'pa'}, {'ba', 'pb'}}, ('>p', 'ab'): {{'pa'}, {'ba', 'pb'}}, ('>p', 'ap'): {{'pa'}, {'ba', 'pb'}}, ('>p', 'ba'): {{'pb'}, {'ab', 'pa'}}, ('>p', 'bb'): {{'pb'}, {'ab', 'pa'}}, ('>p', 'bp'): {{'pb'}, {'ab', 'pa'}}, ('>p', 'p<'): {{'bb', 'bp', 'pb'}, {'bp', 'pb', 'pp'}, {'aa', 'ap', 'pa', 'pp'}, {'ap', 'ba', 'bp', 'pb'}, {'ap', 'ba', 'pb', 'pp'}, {'ab', 'bp', 'pa', 'pp'}, {'ab', 'bp', 'pa', 'pb'}, {'ab', 'ba', 'bp', 'pa'}, {'aa', 'ab', 'ap', 'ba', 'pa'}, {'aa', 'ab', 'ap', 'bp', 'pa'}, {'aa', 'ap', 'ba', 'pa', 'pb'}, {'aa', 'ab', 'ba', 'bp', 'pb'}, {'aa', 'ap', 'bp', 'pa', 'pb'}, {'ab', 'ap', 'ba', 'bb', 'pa'}, {'ap', 'ba', 'bb', 'pa', 'pb'}, {'ab', 'ap', 'ba', 'pa', 'pp'}, {'ab', 'ap', 'ba', 'pa', 'pb'}, {'aa', 'ab', 'ap', 'ba', 'pb'}}, ('>p', 'pa'): {{}}, ('>p', 'pb'): {{}}, ('>p', 'pp'): {{}}, ('a<', '<<'): {{}}, ('aa', '<<'): {{'a<'}, {'ap', 'p<'}, {'ab', 'bp', 'p<'}}, ('aa', 'a<'): {{}}, ('aa', 'aa'): {{}}, ('aa', 'ab'): {{}}, ('aa', 'ap'): {{}}, ('aa', 'ba'): {{'ab'}, {'ap', 'pb'}}, ('aa', 'bb'): {{'ab'}, {'ap', 'pb'}}, ('aa', 'bp'): {{'ab'}, {'ap', 'pb'}}, ('aa', 'p<'): {{'ap'}, {'ab', 'bp'}}, ('aa', 'pa'): {{'ap'}, {'ab', 'bp'}}, ('aa', 'pb'): {{'ap'}, {'ab', 'bp'}}, ('aa', 'pp'): {{'ap'}, {'ab', 'bp'}}, ('ab', '<<'): {{'bp', 'p<'}, {'a<', 'ba'}, {'a<', 'bp', 'pa'}, {'ap', 'ba', 'p<'}}, ('ab', 'a<'): {{'ba'}, {'bp', 'pa'}}, ('ab', 'aa'): {{'ba'}, {'bp', 'pa'}}, ('ab', 'ab'): {{'ba'}, {'bp', 'pa'}}, ('ab', 'ap'): {{'ba'}, {'bp', 'pa'}}, ('ab', 'ba'): {{}}, ('ab', 'bb'): {{}}, ('ab', 'bp'): {{}}, ('ab', 'p<'): {{'bp'}, {'ap', 'ba'}}, ('ab', 'pa'): {{'bp'}, {'ap', 'ba'}}, ('ab', 'pb'): {{'bp'}, {'ap', 'ba'}}, ('ab', 'pp'): {{'bp'}, {'ap', 'ba'}}, ('ap', '<<'): {{'p<'}, {'a<', 'pa'}, {'a<', 'ba', 'pb'}}, ('ap', 'a<'): {{'pa'}, {'ba', 'pb'}}, ('ap', 'aa'): {{'pa'}, {'ba', 'pb'}}, ('ap', 'ab'): {{'pa'}, {'ba', 'pb'}}, ('ap', 'ap'): {{'pa'}, {'ba', 'pb'}}, ('ap', 'ba'): {{'pb'}, {'ab', 'pa'}}, ('ap', 'bb'): {{'pb'}, {'ab', 'pa'}}, ('ap', 'bp'): {{'pb'}, {'ab', 'pa'}}, ('ap', 'p<'): {{}}, ('ap', 'pa'): {{}}, ('ap', 'pb'): {{}}, ('ap', 'pp'): {{}}, ('ba', '<<'): {{'a<'}, {'ap', 'p<'}, {'ab', 'bp', 'p<'}}, ('ba', 'a<'): {{}}, ('ba', 'aa'): {{}}, ('ba', 'ab'): {{}}, ('ba', 'ap'): {{}}, ('ba', 'ba'): {{'ab'}, {'ap', 'pb'}}, ('ba', 'bb'): {{'ab'}, {'ap', 'pb'}}, ('ba', 'bp'): {{'ab'}, {'ap', 'pb'}}, ('ba', 'p<'): {{'ap'}, {'ab', 'bp'}}, ('ba', 'pa'): {{'ap'}, {'ab', 'bp'}}, ('ba', 'pb'): {{'ap'}, {'ab', 'bp'}}, ('ba', 'pp'): {{'ap'}, {'ab', 'bp'}}, ('bb', '<<'): {{'bp', 'p<'}, {'a<', 'ba'}, {'a<', 'bp', 'pa'}, {'ap', 'ba', 'p<'}}, ('bb', 'a<'): {{'ba'}, {'bp', 'pa'}}, ('bb', 'aa'): {{'ba'}, {'bp', 'pa'}}, ('bb', 'ab'): {{'ba'}, {'bp', 'pa'}}, ('bb', 'ap'): {{'ba'}, {'bp', 'pa'}}, ('bb', 'ba'): {{}}, ('bb', 'bb'): {{}}, ('bb', 'bp'): {{}}, ('bb', 'p<'): {{'bp'}, {'ap', 'ba'}}, ('bb', 'pa'): {{'bp'}, {'ap', 'ba'}}, ('bb', 'pb'): {{'bp'}, {'ap', 'ba'}}, ('bb', 'pp'): {{'bp'}, {'ap', 'ba'}}, ('bp', '<<'): {{'p<'}, {'a<', 'pa'}, {'a<', 'ba', 'pb'}}, ('bp', 'a<'): {{'pa'}, {'ba', 'pb'}}, ('bp', 'aa'): {{'pa'}, {'ba', 'pb'}}, ('bp', 'ab'): {{'pa'}, {'ba', 'pb'}}, ('bp', 'ap'): {{'pa'}, {'ba', 'pb'}}, ('bp', 'ba'): {{'pb'}, {'ab', 'pa'}}, ('bp', 'bb'): {{'pb'}, {'ab', 'pa'}}, ('bp', 'bp'): {{'pb'}, {'ab', 'pa'}}, ('bp', 'p<'): {{}}, ('bp', 'pa'): {{}}, ('bp', 'pb'): {{}}, ('bp', 'pp'): {{}}, ('p<', '<<'): {{}}, ('pa', '<<'): {{'a<'}, {'ap', 'p<'}, {'ab', 'bp', 'p<'}}, ('pa', 'a<'): {{}}, ('pa', 'aa'): {{}}, ('pa', 'ab'): {{}}, ('pa', 'ap'): {{}}, ('pa', 'ba'): {{'ab'}, {'ap', 'pb'}}, ('pa', 'bb'): {{'ab'}, {'ap', 'pb'}}, ('pa', 'bp'): {{'ab'}, {'ap', 'pb'}}, ('pa', 'p<'): {{'ap'}, {'ab', 'bp'}}, ('pa', 'pa'): {{'ap'}, {'ab', 'bp'}}, ('pa', 'pb'): {{'ap'}, {'ab', 'bp'}}, ('pa', 'pp'): {{'ap'}, {'ab', 'bp'}}, ('pb', '<<'): {{'bp', 'p<'}, {'a<', 'ba'}, {'a<', 'bp', 'pa'}, {'ap', 'ba', 'p<'}}, ('pb', 'a<'): {{'ba'}, {'bp', 'pa'}}, ('pb', 'aa'): {{'ba'}, {'bp', 'pa'}}, ('pb', 'ab'): {{'ba'}, {'bp', 'pa'}}, ('pb', 'ap'): {{'ba'}, {'bp', 'pa'}}, ('pb', 'ba'): {{}}, ('pb', 'bb'): {{}}, ('pb', 'bp'): {{}}, ('pb', 'p<'): {{'bp'}, {'ap', 'ba'}}, ('pb', 'pa'): {{'bp'}, {'ap', 'ba'}}, ('pb', 'pb'): {{'bp'}, {'ap', 'ba'}}, ('pb', 'pp'): {{'bp'}, {'ap', 'ba'}}, ('pp', '<<'): {{'p<'}, {'a<', 'pa'}, {'a<', 'ba', 'pb'}}, ('pp', 'a<'): {{'pa'}, {'ba', 'pb'}}, ('pp', 'aa'): {{'pa'}, {'ba', 'pb'}}, ('pp', 'ab'): {{'pa'}, {'ba', 'pb'}}, ('pp', 'ap'): {{'pa'}, {'ba', 'pb'}}, ('pp', 'ba'): {{'pb'}, {'ab', 'pa'}}, ('pp', 'bb'): {{'pb'}, {'ab', 'pa'}}, ('pp', 'bp'): {{'pb'}, {'ab', 'pa'}}, ('pp', 'p<'): {{}}, ('pp', 'pa'): {{}}, ('pp', 'pb'): {{}}, ('pp', 'pp'): {{}}})\n",
      "\n",
      "Word-final devoicing, German simplified\n"
     ]
    },
    {
     "name": "stderr",
     "output_type": "stream",
     "text": [
      "Learning: 582688it [3:14:42, 37.97it/s]"
     ]
    }
   ],
   "source": [
    "for experiment in experiments:\n",
    "    print(experiment['description'])\n",
    "    run_experiment(*itsl_args, *experiment['args'])\n",
    "    print()"
   ]
  }
 ],
 "metadata": {
  "kernelspec": {
   "display_name": "Python 3",
   "language": "python",
   "name": "python3"
  },
  "language_info": {
   "codemirror_mode": {
    "name": "ipython",
    "version": 3
   },
   "file_extension": ".py",
   "mimetype": "text/x-python",
   "name": "python",
   "nbconvert_exporter": "python",
   "pygments_lexer": "ipython3",
   "version": "3.9.12"
  }
 },
 "nbformat": 4,
 "nbformat_minor": 2
}
